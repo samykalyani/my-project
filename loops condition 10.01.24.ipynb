{
 "cells": [
  {
   "cell_type": "markdown",
   "id": "4fcccaf1",
   "metadata": {},
   "source": [
    "# for loop"
   ]
  },
  {
   "cell_type": "code",
   "execution_count": 3,
   "id": "bbc305c6",
   "metadata": {},
   "outputs": [
    {
     "name": "stdout",
     "output_type": "stream",
     "text": [
      "15 15\n"
     ]
    }
   ],
   "source": [
    "#count the no.of odd & even numbers b\\w 1to 10\n",
    "o_count=0\n",
    "e_count=0\n",
    "for i in range(1,31):\n",
    "    if (i%2!=0):\n",
    "        o_count+=1\n",
    "    else:\n",
    "        e_count+=1\n",
    "print(o_count,e_count)        "
   ]
  },
  {
   "cell_type": "code",
   "execution_count": 6,
   "id": "51be1913",
   "metadata": {},
   "outputs": [
    {
     "name": "stdout",
     "output_type": "stream",
     "text": [
      "15\n"
     ]
    }
   ],
   "source": [
    "#count the which use divisible by 3 & 5 b\\w 1to5\n",
    "count=0\n",
    "for i in range(1,16):\n",
    "    if(i%3==0 , i%5==0):\n",
    "        count+=1\n",
    "print(count)        "
   ]
  },
  {
   "cell_type": "code",
   "execution_count": null,
   "id": "d0644c8b",
   "metadata": {},
   "outputs": [],
   "source": [
    "#get input for a & b from keyboard and print from a to b\n",
    "a=int(input('enter number'))\n",
    "b=int(input('enter number'))\n",
    "def fun():\n",
    "     for i in range(a,b):\n",
    "            print(i)\n",
    "fun()            "
   ]
  },
  {
   "cell_type": "code",
   "execution_count": 5,
   "id": "702f739a",
   "metadata": {},
   "outputs": [
    {
     "name": "stdout",
     "output_type": "stream",
     "text": [
      "enter number10\n",
      "number is even\n"
     ]
    }
   ],
   "source": [
    "#write a program to check whether given no is even or odd using function\n",
    "def funeven():\n",
    "    a=int(input('enter number'))\n",
    "    if(a%2==0):\n",
    "        print('number is even')\n",
    "    else:\n",
    "        print('number is odd')\n",
    "        \n",
    "funeven()        \n",
    "       \n",
    "        \n",
    "       "
   ]
  },
  {
   "cell_type": "code",
   "execution_count": 24,
   "id": "0e9910c7",
   "metadata": {},
   "outputs": [
    {
     "name": "stdout",
     "output_type": "stream",
     "text": [
      "1\n",
      "2\n",
      "3\n",
      "4\n"
     ]
    }
   ],
   "source": [
    "def function():\n",
    "    count=0\n",
    "    for i in range(1,10):\n",
    "        if(i%2==0):\n",
    "            count+=1  \n",
    "            print(count)\n",
    "function()        \n"
   ]
  },
  {
   "cell_type": "code",
   "execution_count": null,
   "id": "b6bba59a",
   "metadata": {},
   "outputs": [],
   "source": []
  },
  {
   "cell_type": "code",
   "execution_count": null,
   "id": "eec826bd",
   "metadata": {},
   "outputs": [],
   "source": []
  }
 ],
 "metadata": {
  "kernelspec": {
   "display_name": "Python 3 (ipykernel)",
   "language": "python",
   "name": "python3"
  },
  "language_info": {
   "codemirror_mode": {
    "name": "ipython",
    "version": 3
   },
   "file_extension": ".py",
   "mimetype": "text/x-python",
   "name": "python",
   "nbconvert_exporter": "python",
   "pygments_lexer": "ipython3",
   "version": "3.11.5"
  }
 },
 "nbformat": 4,
 "nbformat_minor": 5
}
