{
 "cells": [
  {
   "cell_type": "code",
   "execution_count": 1,
   "id": "70a6985d",
   "metadata": {},
   "outputs": [
    {
     "name": "stdout",
     "output_type": "stream",
     "text": [
      "36 M\n",
      "F\n",
      "M\n"
     ]
    }
   ],
   "source": [
    "class person:\n",
    "    gender='M'\n",
    "    def __init__(self,name,age):\n",
    "        self.name=name\n",
    "        self.age=age\n",
    "    def myfunc(self):\n",
    "        print('Hello my name is'+ self.name)\n",
    "        \n",
    "p1=person('python',36)\n",
    "#del p1.age\n",
    "print(p1.age,p1.gender)\n",
    "p1.gender='F'\n",
    "print(p1.gender)\n",
    "print(person.gender)\n",
    "        \n",
    "        \n",
    "    "
   ]
  },
  {
   "cell_type": "code",
   "execution_count": 3,
   "id": "39915867",
   "metadata": {},
   "outputs": [
    {
     "name": "stdout",
     "output_type": "stream",
     "text": [
      "hi hello this doc\n",
      "hi hello this doc\n",
      "{'name': 'kalyani', 'id': 112, 'age': 21}\n",
      "{'__module__': '__main__', '__doc__': 'hi hello this doc', '__init__': <function student.__init__ at 0x0000023362BADB20>, '__dict__': <attribute '__dict__' of 'student' objects>, '__weakref__': <attribute '__weakref__' of 'student' objects>}\n",
      "__main__\n"
     ]
    }
   ],
   "source": [
    "class student:\n",
    "    '''hi hello this doc'''\n",
    "    def __init__(self,name,id,age):\n",
    "        self.name=name;\n",
    "        self.id=id;\n",
    "        self.age=age;\n",
    "s=student('kalyani',112,21)\n",
    "print(s.__doc__)\n",
    "print(student.__doc__)\n",
    "print(s.__dict__)\n",
    "print(student.__dict__)\n",
    "print(s.__module__)"
   ]
  },
  {
   "cell_type": "code",
   "execution_count": 7,
   "id": "bf486d2b",
   "metadata": {},
   "outputs": [
    {
     "name": "stdout",
     "output_type": "stream",
     "text": [
      "ji\n",
      "hi hello this doc\n",
      "hi hello this doc\n",
      "{'name': 'kalyani', 'id': 112, 'age': 21}\n",
      "{'__module__': '__main__', '__doc__': 'hi hello this doc', '__init__': <function student.__init__ at 0x0000023362BAE480>, 'hi': <function student.hi at 0x0000023362BAEAC0>, '__dict__': <attribute '__dict__' of 'student' objects>, '__weakref__': <attribute '__weakref__' of 'student' objects>}\n",
      "__main__\n"
     ]
    }
   ],
   "source": [
    "class student:\n",
    "    '''hi hello this doc'''\n",
    "    def __init__(self,name,id,age):\n",
    "        self.name=name;\n",
    "        self.id=id;\n",
    "        self.age=age;\n",
    "    def hi(self):\n",
    "         print('ji')\n",
    "s=student('kalyani',112,21)\n",
    "s.hi()\n",
    "print(s.__doc__)\n",
    "print(student.__doc__)\n",
    "print(s.__dict__)\n",
    "print(student.__dict__)\n",
    "print(s.__module__)"
   ]
  },
  {
   "cell_type": "raw",
   "id": "a597e43c",
   "metadata": {},
   "source": [
    "#inheritance\n",
    "#a class inherits all methods and properties from another class.\n",
    "#parent class ,class being inherited from,also called base class.\n",
    "#child class , class being inherited from ,also called as derived class."
   ]
  },
  {
   "cell_type": "code",
   "execution_count": 9,
   "id": "8fb6f233",
   "metadata": {},
   "outputs": [
    {
     "name": "stdout",
     "output_type": "stream",
     "text": [
      "S KALYANI\n"
     ]
    }
   ],
   "source": [
    "class person:\n",
    "    def __init__(self,fname,lname):\n",
    "        self.firstname=fname\n",
    "        self.lastname=lname\n",
    "        \n",
    "    def printname(self):\n",
    "        print(self.firstname,self.lastname)\n",
    "        \n",
    "class student(person):\n",
    "    pass\n",
    "x=student('S','KALYANI')\n",
    "x.printname()\n",
    "        "
   ]
  },
  {
   "cell_type": "code",
   "execution_count": 11,
   "id": "3e723a17",
   "metadata": {},
   "outputs": [
    {
     "name": "stdout",
     "output_type": "stream",
     "text": [
      "I can eat\n",
      "My name is kutty\n"
     ]
    }
   ],
   "source": [
    "class Animal:\n",
    "    name='' #attributes and method of parent class\n",
    "    def eat(self):\n",
    "        print('I can eat')\n",
    "#inherit from Animal        \n",
    "class dog (Animal):\n",
    "#new method in subclass    \n",
    "    def display(self):\n",
    "#access name attribute of superclass using self\n",
    "        print('My name is',self.name)\n",
    "# create an object of the subclass   \n",
    "labrador=dog()\n",
    "#access superclass attribute and method\n",
    "labrador.name='kutty'\n",
    "labrador.eat()\n",
    "#call subclass method\n",
    "labrador.display()\n",
    "        "
   ]
  },
  {
   "cell_type": "code",
   "execution_count": 23,
   "id": "67fe3ce3",
   "metadata": {},
   "outputs": [
    {
     "name": "stdout",
     "output_type": "stream",
     "text": [
      "my name kalyani\n",
      "my number 21\n"
     ]
    }
   ],
   "source": [
    "class student:\n",
    "    name=''\n",
    "    number=''\n",
    "    def myname(self):\n",
    "        print('my name',self.name)\n",
    "class no(student):         \n",
    "    def mynumber(self):\n",
    "        print('my number',self.number)\n",
    "        \n",
    "x=no()\n",
    "x.name='kalyani'\n",
    "x.myname()\n",
    "x.number=21\n",
    "x.mynumber()"
   ]
  },
  {
   "cell_type": "markdown",
   "id": "d76233c3",
   "metadata": {},
   "source": [
    "# multiple inheritence\n",
    "child class is derived from more than one parent class"
   ]
  },
  {
   "cell_type": "code",
   "execution_count": 3,
   "id": "c8847a7c",
   "metadata": {},
   "outputs": [
    {
     "name": "stdout",
     "output_type": "stream",
     "text": [
      "Teaching students.\n",
      "conducting research\n"
     ]
    }
   ],
   "source": [
    "class Lecturer:\n",
    "    def teach(self):\n",
    "        return'Teaching students.'\n",
    "class Researcher:\n",
    "    def research(self):\n",
    "        return 'conducting research'\n",
    "class Professor(Lecturer,Researcher):\n",
    "    pass\n",
    "john=Professor()\n",
    "print(john.teach())\n",
    "print(john.research())\n",
    "    "
   ]
  },
  {
   "cell_type": "code",
   "execution_count": 12,
   "id": "ebc61c82",
   "metadata": {},
   "outputs": [
    {
     "name": "stdout",
     "output_type": "stream",
     "text": [
      "Device powered on.\n",
      "Device powered off.\n",
      "Device reset.\n",
      "battery status:80%\n",
      "charging battery.\n",
      "Battery health:Good\n",
      "vivo 5G\n"
     ]
    }
   ],
   "source": [
    "class Devicecontrol:\n",
    "    def power_on(self):\n",
    "        return'Device powered on.'\n",
    "    def power_off(self):\n",
    "        return'Device powered off.'\n",
    "    def reset(self):\n",
    "        return 'Device reset.'\n",
    "class Batterymanagement:\n",
    "    def get_battery_status(self):\n",
    "        return'battery status:80%'\n",
    "    def charge(self):\n",
    "        return 'charging battery.'\n",
    "    def check_battery_health(self):\n",
    "        return'Battery health:Good'\n",
    "class ElectronicDevice(Devicecontrol,Batterymanagement):\n",
    "    def brand_info(self):\n",
    "        return'vivo 5G'\n",
    "    \n",
    "smartphone=ElectronicDevice()\n",
    "print(smartphone.power_on())\n",
    "print(smartphone.power_off())\n",
    "print(smartphone.reset())\n",
    "print(smartphone.get_battery_status())\n",
    "print(smartphone.charge())\n",
    "print(smartphone.check_battery_health())\n",
    "print(smartphone.brand_info())"
   ]
  },
  {
   "cell_type": "markdown",
   "id": "99a674a1",
   "metadata": {},
   "source": [
    "# multilevel inheritence\n",
    "one parent class---chlidclass1----childclass2"
   ]
  },
  {
   "cell_type": "code",
   "execution_count": 13,
   "id": "71d4f388",
   "metadata": {},
   "outputs": [
    {
     "name": "stdout",
     "output_type": "stream",
     "text": [
      "super class method called\n",
      "derived class 1 method called\n",
      "derived class 2 method called\n"
     ]
    }
   ],
   "source": [
    "class superclass:\n",
    "    def super_method(self):\n",
    "        print('super class method called')\n",
    "class derivedclass1(superclass):\n",
    "    def derived1_method(self):\n",
    "        print('derived class 1 method called')\n",
    "class derivedclass2(derivedclass1):\n",
    "    def derived2_method(self):\n",
    "        print('derived class 2 method called')\n",
    "d2=derivedclass2()\n",
    "d2.super_method()\n",
    "d2.derived1_method()\n",
    "d2.derived2_method()"
   ]
  },
  {
   "cell_type": "code",
   "execution_count": 10,
   "id": "aff5a79a",
   "metadata": {},
   "outputs": [
    {
     "name": "stdout",
     "output_type": "stream",
     "text": [
      "this is a tesal,model 3.\n",
      "it has a electric engine.\n",
      "it has a 75 -kwhbattery,\n"
     ]
    }
   ],
   "source": [
    "class vehicle:\n",
    "    def __init__(self,make,model):\n",
    "        self.make=make\n",
    "        self.model=model\n",
    "    def display_info(self):\n",
    "        print(f'this is a {self.make},{self.model}.')\n",
    "class car(vehicle):\n",
    "    engine_type='unknown'\n",
    "    def display_engine_info(self):\n",
    "        print(f'it has a {self.engine_type} engine.')\n",
    "class electriccar(car):\n",
    "    battery_size=0\n",
    "    def display_battery_info(self):\n",
    "        print(f'it has a {self.battery_size} -kwhbattery,')\n",
    "my_electric_car=electriccar('tesal','model 3')\n",
    "my_electric_car.engine_type='electric'\n",
    "my_electric_car.battery_size=75\n",
    "my_electric_car.display_info()\n",
    "my_electric_car.display_engine_info()\n",
    "my_electric_car.display_battery_info()"
   ]
  },
  {
   "cell_type": "code",
   "execution_count": 36,
   "id": "24d52cf7",
   "metadata": {},
   "outputs": [
    {
     "name": "stdout",
     "output_type": "stream",
     "text": [
      "Item: The Great Gatsby,price: $ ,10\n",
      "Book: The Great Gatsbyby F.Scott Fitzgerald,genre: classic literature,price: $ 10\n",
      "Item: 1984,price: $ ,8\n",
      "Book: 1984by George Orwell,genre: Dystopian,price: $ 8\n",
      "EBook: 1984by George Orwell ,format: epub,size: epub,size: 2MB,price: $ 8\n"
     ]
    }
   ],
   "source": [
    "class storeitem:\n",
    "    def __init__(self,title,price):\n",
    "        self.title=title\n",
    "        self.price=price\n",
    "        \n",
    "    def display_info(self):\n",
    "        print(f'Item: {self.title},price: $ ,{self.price}')\n",
    "        \n",
    "class Book(storeitem):\n",
    "    author='unknown author'\n",
    "    genre='fiction'\n",
    "    \n",
    "    def display_details(self):\n",
    "        print(f'Book: {self.title}by {self.author},genre: {self.genre},price: $ {self.price}')\n",
    "        \n",
    "class EBook(Book):\n",
    "    file_format='PDF'\n",
    "    file_size='1MB'\n",
    "    \n",
    "    def display_ebook_details(self):\n",
    "        print(f'EBook: {self.title}by {self.author} ,format: {self.file_format},size: {self.file_format},size: {self.file_size},price: $ {self.price}')\n",
    "\n",
    "        \n",
    "a = Book('The Great Gatsby',10)\n",
    "a.author='F.Scott Fitzgerald'\n",
    "a.genre='classic literature'\n",
    "a.display_info()\n",
    "a.display_details()\n",
    "\n",
    "\n",
    "a=EBook('1984',8)\n",
    "a.author='George Orwell'\n",
    "a.genre='Dystopian'\n",
    "a.file_format='epub'\n",
    "a.file_size='2MB'\n",
    "a.display_info()\n",
    "a.display_details()\n",
    "a.display_ebook_details()\n",
    "\n",
    "        "
   ]
  },
  {
   "cell_type": "code",
   "execution_count": null,
   "id": "8bb41af0",
   "metadata": {},
   "outputs": [],
   "source": [
    "class employee:\n",
    "    def __init__(self,name,emp_id):\n",
    "        self.name=name\n",
    "        self.emp_id=emp_id\n",
    "    def display_info(self):\n",
    "        print(f'name:{self.name,employee:{self.emp_id}')\n",
    "class hourlyemployee"
   ]
  },
  {
   "cell_type": "markdown",
   "id": "4a6af3ea",
   "metadata": {},
   "source": [
    "# HYBRID(12.02.24)"
   ]
  },
  {
   "cell_type": "code",
   "execution_count": 1,
   "id": "65e7cd35",
   "metadata": {
    "scrolled": false
   },
   "outputs": [
    {
     "name": "stdout",
     "output_type": "stream",
     "text": [
      "inside vehicle class\n",
      "inside car class\n",
      "inside sportscar class\n"
     ]
    }
   ],
   "source": [
    "class vehicle:\n",
    "    def vehicle_info(self):\n",
    "        print('inside vehicle class')\n",
    "class car(vehicle):\n",
    "    def car_info(self):\n",
    "        print('inside car class')\n",
    "#sports car can inherits properties if vehicle and car\n",
    "class sportscar(car,vehicle):\n",
    "    def sports_car_info(self):\n",
    "        print('inside sportscar class')\n",
    "#create object\n",
    "s_car=sportscar()\n",
    "s_car.vehicle_info()\n",
    "s_car.car_info()\n",
    "s_car.sports_car_info()\n"
   ]
  },
  {
   "cell_type": "markdown",
   "id": "7975eb85",
   "metadata": {},
   "source": [
    "# Method override"
   ]
  },
  {
   "cell_type": "code",
   "execution_count": 5,
   "id": "004ce1e2",
   "metadata": {},
   "outputs": [
    {
     "name": "stdout",
     "output_type": "stream",
     "text": [
      "I can eat\n",
      "I like to eat bones\n"
     ]
    }
   ],
   "source": [
    "class animal:\n",
    "#attributes and method of the parent class\n",
    "    name=''\n",
    "    def eat(self):\n",
    "        print('I can eat')\n",
    "#inherit from animal\n",
    "class dog(animal):\n",
    "    #overide eat()method\n",
    "    def eat(self):\n",
    "        super().eat()\n",
    "        print('I like to eat bones')\n",
    "#create an object of the subclass\n",
    "labrador=dog()\n",
    "#call the eat()method on the labrador object\n",
    "labrador.eat()\n",
    "\n",
    "        \n",
    "        "
   ]
  },
  {
   "cell_type": "code",
   "execution_count": 4,
   "id": "d40ac1ac",
   "metadata": {},
   "outputs": [
    {
     "name": "stdout",
     "output_type": "stream",
     "text": [
      "bank rate of interest: 10\n",
      "SBI rate of interest: 7\n",
      "ICICI rate of interest: 8\n"
     ]
    }
   ],
   "source": [
    "class bank:\n",
    "    def getroi(self):\n",
    "        return 10;\n",
    "class SBI(bank):\n",
    "    def getroi(self):\n",
    "        return 7;\n",
    "class ICICI(bank):\n",
    "    def getroi(self):\n",
    "        return 8;\n",
    "b1=bank()\n",
    "b2=SBI()\n",
    "b3=ICICI()\n",
    "print('bank rate of interest:',b1.getroi());\n",
    "print('SBI rate of interest:',b2.getroi());\n",
    "print('ICICI rate of interest:',b3.getroi());"
   ]
  },
  {
   "cell_type": "code",
   "execution_count": null,
   "id": "6724afcf",
   "metadata": {},
   "outputs": [],
   "source": []
  }
 ],
 "metadata": {
  "kernelspec": {
   "display_name": "Python 3 (ipykernel)",
   "language": "python",
   "name": "python3"
  },
  "language_info": {
   "codemirror_mode": {
    "name": "ipython",
    "version": 3
   },
   "file_extension": ".py",
   "mimetype": "text/x-python",
   "name": "python",
   "nbconvert_exporter": "python",
   "pygments_lexer": "ipython3",
   "version": "3.11.5"
  }
 },
 "nbformat": 4,
 "nbformat_minor": 5
}
