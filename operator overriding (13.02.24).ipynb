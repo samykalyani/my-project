{
 "cells": [
  {
   "cell_type": "code",
   "execution_count": 4,
   "id": "1efc6a51",
   "metadata": {},
   "outputs": [
    {
     "name": "stdout",
     "output_type": "stream",
     "text": [
      "5\n",
      "5\n",
      "Result of addition: 8\n"
     ]
    }
   ],
   "source": [
    "class mynumber:\n",
    "    def __init__(self,value):\n",
    "        self.value = value\n",
    "    def __add__(self,other):\n",
    "        return mynumber(self.value+other.value)\n",
    "num1=mynumber(5)\n",
    "print(num1.value)\n",
    "num2=mynumber(3)\n",
    "print(num1.value)\n",
    "result=num1+num2\n",
    "print('Result of addition:',result.value)"
   ]
  },
  {
   "cell_type": "code",
   "execution_count": 7,
   "id": "6b064647",
   "metadata": {},
   "outputs": [
    {
     "name": "stdout",
     "output_type": "stream",
     "text": [
      "5\n",
      "5\n",
      "Result of addition: 8\n"
     ]
    }
   ],
   "source": [
    "class mynumber:\n",
    "    def __init__(self,value):\n",
    "        self.value = value\n",
    "    def __add__(self,other):\n",
    "        return self.value+other.value\n",
    "num1=mynumber(5)\n",
    "print(num1.value)\n",
    "num2=mynumber(3)\n",
    "print(num1.value)\n",
    "result=num1+num2\n",
    "print('Result of addition:',result)"
   ]
  },
  {
   "cell_type": "markdown",
   "id": "cf01aa36",
   "metadata": {},
   "source": [
    "# polymorphism"
   ]
  },
  {
   "cell_type": "code",
   "execution_count": 11,
   "id": "0e892f5d",
   "metadata": {},
   "outputs": [
    {
     "name": "stdout",
     "output_type": "stream",
     "text": [
      "drive!\n",
      "sai!\n",
      "fly!\n"
     ]
    }
   ],
   "source": [
    "class car:\n",
    "    def __init__(self,brand,model):\n",
    "        self.brand=brand\n",
    "        self.model=model\n",
    "    def move(self):\n",
    "        print('drive!')\n",
    "class boat:\n",
    "    def __init__(self,brand,model):\n",
    "        self.brand=brand\n",
    "        self.model=model\n",
    "    def move(self):\n",
    "        print('sai!')\n",
    "class plane:\n",
    "    def __init__(self,brand,model):\n",
    "        self:brand=brand\n",
    "        self:brand=brand\n",
    "    def move(self):\n",
    "        print('fly!')\n",
    "car1=car('ford','mustang')\n",
    "boat1=boat('ibiza','touring 20')\n",
    "plane1=plane('boeing','747')\n",
    "\n",
    "for x in (car1,boat1,plane1):\n",
    "    x.move()"
   ]
  },
  {
   "cell_type": "code",
   "execution_count": 15,
   "id": "70978243",
   "metadata": {},
   "outputs": [
    {
     "name": "stdout",
     "output_type": "stream",
     "text": [
      "this is data science course\n",
      "this is full stack course\n",
      "this is data science department2\n",
      "this is full stack course2\n"
     ]
    }
   ],
   "source": [
    "class dep:\n",
    "    def data_science(self):\n",
    "        print('this is data science course')\n",
    "    def full_stack(self):\n",
    "        print('this is full stack course')\n",
    "class dep1:\n",
    "    def data_science(self):\n",
    "        print('this is data science department2')\n",
    "    def full_stack(self):\n",
    "        print('this is full stack course2')\n",
    "d1=dep()\n",
    "d2=dep1()\n",
    "for i in (d1,d2):\n",
    "    i.data_science()\n",
    "    i.full_stack()"
   ]
  },
  {
   "cell_type": "code",
   "execution_count": 23,
   "id": "d751539e",
   "metadata": {},
   "outputs": [
    {
     "name": "stdout",
     "output_type": "stream",
     "text": [
      "ford\n",
      "mustang\n",
      "move!\n",
      "ibiza\n",
      "touring 20\n",
      "sai!\n",
      "boeing\n",
      "747\n",
      "fly!\n"
     ]
    }
   ],
   "source": [
    "class vehicle:\n",
    "    def __init__(self,brand,model):\n",
    "        self.brand=brand\n",
    "        self.model=model\n",
    "    def move(self):\n",
    "        print('move!')\n",
    "class car(vehicle):\n",
    "    pass\n",
    "class boat(vehicle):\n",
    "    def move(self):\n",
    "        print('sai!')\n",
    "class plane(vehicle):\n",
    "    def __init__(self,brand,model):\n",
    "        self.brand=brand\n",
    "        self.model=model\n",
    "    def move(self):\n",
    "        print('fly!')\n",
    "car1=car('ford','mustang')\n",
    "boat1=boat('ibiza','touring 20')\n",
    "plane1=plane('boeing','747')\n",
    "\n",
    "for x in (car1,boat1,plane1):\n",
    "    print(x.brand)\n",
    "    print(x.model)\n",
    "    x.move()"
   ]
  },
  {
   "cell_type": "markdown",
   "id": "aef0c01a",
   "metadata": {},
   "source": [
    "# encapsulation(14.02.24)\n",
    "\n",
    "Bundling of data and method within a single unit\n",
    "\n",
    "*attributes security\n",
    "\n",
    "ACCESSING MODIFER IN PYTHON\n",
    "\n",
    "1.PUBLIC MEMBER---accessible anywhere within or outside of class\n",
    "2.PRIVATE MEMBER---accessible within class\n",
    "3.PROTECTED MEMBER---accessible within class and it sub -class\n",
    "\n",
    "class employee:\n",
    "\n",
    "def __init__(self,name,salary)\n",
    "\n",
    "    self.name=name (public member)\n",
    "    self._project=project (protected)\n",
    "    self.__salary=salary (private)\n"
   ]
  },
  {
   "cell_type": "code",
   "execution_count": 5,
   "id": "a3473492",
   "metadata": {},
   "outputs": [
    {
     "name": "stdout",
     "output_type": "stream",
     "text": [
      "name: kalyani salary: 100000\n",
      "name: kalyani salary: 100000\n"
     ]
    }
   ],
   "source": [
    "class empolyee:\n",
    "    def __init__(self,name,salary):\n",
    "        self.name=name\n",
    "        self.salary=salary\n",
    "    def show(self):\n",
    "         print('name:',self.name,'salary:',self.salary)\n",
    "emp=empolyee('kalyani',100000)\n",
    "print('name:',emp.name,'salary:',emp.salary)\n",
    "emp.show()"
   ]
  },
  {
   "cell_type": "code",
   "execution_count": 11,
   "id": "ee7540b9",
   "metadata": {},
   "outputs": [
    {
     "name": "stdout",
     "output_type": "stream",
     "text": [
      "name: kalyani\n",
      "salary: 30000\n"
     ]
    }
   ],
   "source": [
    "class employee:\n",
    "    def __init__(self,name,salary):\n",
    "        self.name=name\n",
    "        self.__salary=salary\n",
    "emp=employee('kalyani',30000)\n",
    "print('name:',emp.name)\n",
    "print('salary:',emp._employee__salary)\n"
   ]
  },
  {
   "cell_type": "code",
   "execution_count": 13,
   "id": "e9ded71f",
   "metadata": {},
   "outputs": [
    {
     "name": "stdout",
     "output_type": "stream",
     "text": [
      "name: priya salary: 500000\n"
     ]
    }
   ],
   "source": [
    "class employee:\n",
    "    def __init__(self,name,salary):\n",
    "        self.name=name#public data member\n",
    "        self.__salary=salary#private member\n",
    "    def show(self):#public instance methods\n",
    "        print('name:',self.name,'salary:',self.__salary)\n",
    "emp=employee('priya',500000)\n",
    "emp.show()\n",
    "            \n",
    "            \n",
    "        "
   ]
  },
  {
   "cell_type": "code",
   "execution_count": 19,
   "id": "3929dd5d",
   "metadata": {},
   "outputs": [
    {
     "name": "stdout",
     "output_type": "stream",
     "text": [
      "employee name: ek\n",
      "employee working on project: nlp\n",
      "project: nlp\n"
     ]
    }
   ],
   "source": [
    "#public method to access private members\n",
    "class company:\n",
    "    def __init__(self):\n",
    "        self._project='nlp'\n",
    "class employee (company):\n",
    "    def __init__(self,name):\n",
    "        self.name=name\n",
    "        company.__init__(self)\n",
    "    def show(self):\n",
    "        print('employee name:',self.name)\n",
    "        print ('employee working on project:',self._project)\n",
    "c=employee('ek')\n",
    "c.show()\n",
    "print('project:',c._project)\n",
    "        "
   ]
  },
  {
   "cell_type": "code",
   "execution_count": 22,
   "id": "2dc15142",
   "metadata": {},
   "outputs": [
    {
     "name": "stdout",
     "output_type": "stream",
     "text": [
      "second class name & id: python1 2001\n",
      "python\n",
      "10001\n"
     ]
    }
   ],
   "source": [
    "class student:\n",
    "    def __init__(self):\n",
    "        self.name='python'\n",
    "        self.id='10001'\n",
    "class dep(student):\n",
    "    def __init__(self,name,id):\n",
    "        self.name1=name\n",
    "        self.id1=id\n",
    "        student.__init__(self)\n",
    "    def display(self):\n",
    "        print('second class name & id:',self.name1,self.id1)\n",
    "        print(self.name)\n",
    "        print(self.id)\n",
    "d1=dep('python1','2001')\n",
    "d1.display()\n",
    "        "
   ]
  },
  {
   "cell_type": "code",
   "execution_count": null,
   "id": "8e6d71ad",
   "metadata": {},
   "outputs": [],
   "source": [
    "#task\n",
    "create class-first class-give name,number,mail\n",
    "\n",
    "create second class-give name1,number1,mail1\n",
    "\n",
    "first class\n",
    "\n",
    "second class access for first class attributes"
   ]
  },
  {
   "cell_type": "code",
   "execution_count": 57,
   "id": "795c39cf",
   "metadata": {},
   "outputs": [
    {
     "name": "stdout",
     "output_type": "stream",
     "text": [
      "self.mail1: 23@gmail.com \n",
      "self.number1: 12345678 \n",
      "self.name1: kal\n",
      "kalyani\n",
      "kal23@gmail.com\n",
      "123456789\n"
     ]
    }
   ],
   "source": [
    "class firstclass:\n",
    "    def __init__(self):\n",
    "        self.name='kalyani'\n",
    "        self.number='123456789'\n",
    "        self.mail='kal23@gmail.com'\n",
    "class secondclass(firstclass):\n",
    "    def __init__(self,name,mail,number):\n",
    "        self.name1=name\n",
    "        self.number1=number\n",
    "        self.mail1=mail\n",
    "        firstclass.__init__(self)\n",
    "    def display(self):\n",
    "        print('self.mail1:',self.mail1, '\\nself.number1:',self.number1, '\\nself.name1:',self.name1)\n",
    "        print(self.name)\n",
    "        print(self.mail)\n",
    "        print(self.number)\n",
    "d1=secondclass('kal','23@gmail.com',12345678)\n",
    "d1.display()       \n",
    "        "
   ]
  },
  {
   "cell_type": "code",
   "execution_count": null,
   "id": "0e183da9",
   "metadata": {},
   "outputs": [],
   "source": []
  },
  {
   "cell_type": "code",
   "execution_count": null,
   "id": "ac5c9e88",
   "metadata": {},
   "outputs": [],
   "source": []
  },
  {
   "cell_type": "code",
   "execution_count": null,
   "id": "eae2a456",
   "metadata": {},
   "outputs": [],
   "source": []
  },
  {
   "cell_type": "code",
   "execution_count": null,
   "id": "030e5266",
   "metadata": {},
   "outputs": [],
   "source": []
  },
  {
   "cell_type": "code",
   "execution_count": null,
   "id": "574abdf2",
   "metadata": {},
   "outputs": [],
   "source": []
  }
 ],
 "metadata": {
  "kernelspec": {
   "display_name": "Python 3 (ipykernel)",
   "language": "python",
   "name": "python3"
  },
  "language_info": {
   "codemirror_mode": {
    "name": "ipython",
    "version": 3
   },
   "file_extension": ".py",
   "mimetype": "text/x-python",
   "name": "python",
   "nbconvert_exporter": "python",
   "pygments_lexer": "ipython3",
   "version": "3.11.5"
  }
 },
 "nbformat": 4,
 "nbformat_minor": 5
}
