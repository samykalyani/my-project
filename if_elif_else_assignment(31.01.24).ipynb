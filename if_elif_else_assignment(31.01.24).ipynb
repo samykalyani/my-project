{
 "cells": [
  {
   "cell_type": "markdown",
   "id": "85113141",
   "metadata": {},
   "source": [
    "# grade calculate "
   ]
  },
  {
   "cell_type": "code",
   "execution_count": 6,
   "id": "8906f0cc",
   "metadata": {},
   "outputs": [
    {
     "name": "stdout",
     "output_type": "stream",
     "text": [
      "enter mark obtained:85\n",
      "grade:B\n"
     ]
    }
   ],
   "source": [
    "a=int(input('enter mark obtained:'))\n",
    "if a>=90 and a<=100:\n",
    "    print('grade:A')\n",
    "elif a>=80 and a<=89:\n",
    "    print('grade:B')\n",
    "elif a>=70 and a<=79:\n",
    "    print('grade:C')\n",
    "elif a>=60 and a<=69:\n",
    "    print('grade:D')\n",
    "else:\n",
    "    '60 below'\n",
    "    print('F')\n"
   ]
  },
  {
   "cell_type": "code",
   "execution_count": 32,
   "id": "cbdbd124",
   "metadata": {},
   "outputs": [
    {
     "name": "stdout",
     "output_type": "stream",
     "text": [
      "enter the age:15\n",
      "enter the days of the week:monday\n",
      "ticket $12\n"
     ]
    }
   ],
   "source": [
    "age=int(input('enter the age:'))\n",
    "day_of_week=str(input('enter the days of the week:'))\n",
    "if day_of_week in (['monday','tuesday','wednesday','thursday','friday']):\n",
    "    if age<18:\n",
    "        print('ticket $12')\n",
    "    else:\n",
    "        print('ticket $15')\n",
    "if day_of_week in (['saturday','sunday']):\n",
    "    if age<18:\n",
    "        print('ticket $15')\n",
    "    else:\n",
    "        print('ticket $20')"
   ]
  },
  {
   "cell_type": "code",
   "execution_count": 6,
   "id": "2064a36c",
   "metadata": {},
   "outputs": [
    {
     "name": "stdout",
     "output_type": "stream",
     "text": [
      "enter the total purchase amount:800\n",
      "are u permium member:yes\n",
      "total amount to be paid: 800\n"
     ]
    }
   ],
   "source": [
    "amount=(int(input('enter the total purchase amount:')))\n",
    "permium=(str(input('are u permium member:')))\n",
    "if permium=='yes':\n",
    "    print('total amount to be paid:',amount)\n",
    "elif amount>50:\n",
    "    print('totanl amount to be paid:',amount)\n",
    "else:\n",
    "    print('total amount to be paid:',amount+10)\n",
    "\n",
    "   "
   ]
  },
  {
   "cell_type": "code",
   "execution_count": null,
   "id": "d7964436",
   "metadata": {},
   "outputs": [],
   "source": []
  },
  {
   "cell_type": "code",
   "execution_count": null,
   "id": "ddc8d1ce",
   "metadata": {},
   "outputs": [],
   "source": []
  }
 ],
 "metadata": {
  "kernelspec": {
   "display_name": "Python 3 (ipykernel)",
   "language": "python",
   "name": "python3"
  },
  "language_info": {
   "codemirror_mode": {
    "name": "ipython",
    "version": 3
   },
   "file_extension": ".py",
   "mimetype": "text/x-python",
   "name": "python",
   "nbconvert_exporter": "python",
   "pygments_lexer": "ipython3",
   "version": "3.11.5"
  }
 },
 "nbformat": 4,
 "nbformat_minor": 5
}
