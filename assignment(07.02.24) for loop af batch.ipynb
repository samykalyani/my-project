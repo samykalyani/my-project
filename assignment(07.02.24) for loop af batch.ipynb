{
 "cells": [
  {
   "cell_type": "code",
   "execution_count": 21,
   "id": "8d5d2791",
   "metadata": {},
   "outputs": [
    {
     "name": "stdout",
     "output_type": "stream",
     "text": [
      "enter a number:10\n",
      "55\n"
     ]
    }
   ],
   "source": [
    "a=0\n",
    "x=(int(input('enter a number:')))\n",
    "for i in range(1,x+1):\n",
    "    a=a+i\n",
    "print(a)\n"
   ]
  },
  {
   "cell_type": "code",
   "execution_count": 7,
   "id": "5ccfd557",
   "metadata": {},
   "outputs": [
    {
     "name": "stdout",
     "output_type": "stream",
     "text": [
      "-10\n",
      "-9\n",
      "-8\n",
      "-7\n",
      "-6\n",
      "-5\n",
      "-4\n",
      "-3\n",
      "-2\n",
      "-1\n"
     ]
    }
   ],
   "source": [
    "for i in range(-10,0):\n",
    "    print(i)"
   ]
  },
  {
   "cell_type": "code",
   "execution_count": 18,
   "id": "78c76475",
   "metadata": {},
   "outputs": [
    {
     "name": "stdout",
     "output_type": "stream",
     "text": [
      "terms:5\n",
      "Fibonacci sequence: 3\n"
     ]
    }
   ],
   "source": [
    "a=0\n",
    "b=1\n",
    "x=int(input('terms:'))\n",
    "for i in range(2,x):\n",
    "    c=a+b\n",
    "    a=b\n",
    "    b=c\n",
    "print('Fibonacci sequence:',c)"
   ]
  },
  {
   "cell_type": "code",
   "execution_count": 20,
   "id": "c6cd7c26",
   "metadata": {},
   "outputs": [
    {
     "name": "stdout",
     "output_type": "stream",
     "text": [
      "enter a number:5\n",
      "120\n"
     ]
    }
   ],
   "source": [
    "a=1\n",
    "n=(int(input('enter a number:')))\n",
    "for i in range(1,n+1):\n",
    "    a=a*i\n",
    "    #print(a)\n",
    "print(a)"
   ]
  },
  {
   "cell_type": "code",
   "execution_count": 2,
   "id": "3664b7da",
   "metadata": {},
   "outputs": [
    {
     "name": "stdout",
     "output_type": "stream",
     "text": [
      "enter a number:12345\n",
      "54321\n"
     ]
    }
   ],
   "source": [
    "a=0\n",
    "n=(input('enter a number:'))\n",
    "print(n[::-1])"
   ]
  },
  {
   "cell_type": "code",
   "execution_count": 3,
   "id": "4eca0fbb",
   "metadata": {},
   "outputs": [
    {
     "name": "stdout",
     "output_type": "stream",
     "text": [
      "enter a number:6\n",
      "1\n",
      "8\n",
      "27\n",
      "64\n",
      "125\n",
      "216\n"
     ]
    }
   ],
   "source": [
    "a=(int(input('enter a number:')))\n",
    "for i in range(1,a+1):\n",
    "    a=i**3\n",
    "    print(a)\n",
    "    "
   ]
  },
  {
   "cell_type": "code",
   "execution_count": null,
   "id": "d44a5529",
   "metadata": {},
   "outputs": [],
   "source": []
  },
  {
   "cell_type": "code",
   "execution_count": null,
   "id": "eb630d04",
   "metadata": {},
   "outputs": [],
   "source": []
  },
  {
   "cell_type": "code",
   "execution_count": null,
   "id": "a2021e55",
   "metadata": {},
   "outputs": [],
   "source": []
  }
 ],
 "metadata": {
  "kernelspec": {
   "display_name": "Python 3 (ipykernel)",
   "language": "python",
   "name": "python3"
  },
  "language_info": {
   "codemirror_mode": {
    "name": "ipython",
    "version": 3
   },
   "file_extension": ".py",
   "mimetype": "text/x-python",
   "name": "python",
   "nbconvert_exporter": "python",
   "pygments_lexer": "ipython3",
   "version": "3.11.5"
  }
 },
 "nbformat": 4,
 "nbformat_minor": 5
}
