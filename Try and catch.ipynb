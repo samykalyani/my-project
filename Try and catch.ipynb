{
 "cells": [
  {
   "cell_type": "code",
   "execution_count": 6,
   "id": "b1a13d8b",
   "metadata": {},
   "outputs": [
    {
     "name": "stdout",
     "output_type": "stream",
     "text": [
      "x is not defined\n"
     ]
    }
   ],
   "source": [
    "try:\n",
    "    print(x)\n",
    "except:\n",
    "    print('x is not defined')\n",
    "    "
   ]
  },
  {
   "cell_type": "code",
   "execution_count": 8,
   "id": "cd32f1ab",
   "metadata": {},
   "outputs": [
    {
     "name": "stdout",
     "output_type": "stream",
     "text": [
      "somthing went wrong\n"
     ]
    }
   ],
   "source": [
    "try:\n",
    "    print(8+'8')\n",
    "except NameError:\n",
    "    print('variable x is not defined')\n",
    "except:\n",
    "    print('somthing went wrong')\n",
    "    \n",
    "    "
   ]
  },
  {
   "cell_type": "code",
   "execution_count": 9,
   "id": "5276535a",
   "metadata": {},
   "outputs": [
    {
     "name": "stdout",
     "output_type": "stream",
     "text": [
      "12\n",
      "value\n"
     ]
    }
   ],
   "source": [
    "try:\n",
    "    print(3+9)\n",
    "except:\n",
    "    print('error')\n",
    "else:\n",
    "    print('value')"
   ]
  },
  {
   "cell_type": "code",
   "execution_count": 10,
   "id": "c96c51d4",
   "metadata": {},
   "outputs": [
    {
     "name": "stdout",
     "output_type": "stream",
     "text": [
      "an error occurred\n",
      "cleanup or final task here\n"
     ]
    }
   ],
   "source": [
    "try:\n",
    "    result=10/0\n",
    "except Exception as e:\n",
    "    print('an error occurred')\n",
    "else:\n",
    "    print('division successful.result:',result)\n",
    "finally:\n",
    "    print('cleanup or final task here')"
   ]
  },
  {
   "cell_type": "code",
   "execution_count": 12,
   "id": "04175cee",
   "metadata": {},
   "outputs": [
    {
     "name": "stdout",
     "output_type": "stream",
     "text": [
      "Arithmetic error occurred: division by zero\n"
     ]
    }
   ],
   "source": [
    "try:\n",
    "    result=10/0\n",
    "except ArithmeticError as e:\n",
    "    print('Arithmetic error occurred:',e)"
   ]
  },
  {
   "cell_type": "code",
   "execution_count": null,
   "id": "910708dc",
   "metadata": {},
   "outputs": [],
   "source": []
  }
 ],
 "metadata": {
  "kernelspec": {
   "display_name": "Python 3 (ipykernel)",
   "language": "python",
   "name": "python3"
  },
  "language_info": {
   "codemirror_mode": {
    "name": "ipython",
    "version": 3
   },
   "file_extension": ".py",
   "mimetype": "text/x-python",
   "name": "python",
   "nbconvert_exporter": "python",
   "pygments_lexer": "ipython3",
   "version": "3.11.5"
  }
 },
 "nbformat": 4,
 "nbformat_minor": 5
}
