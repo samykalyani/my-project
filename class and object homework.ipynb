{
 "cells": [
  {
   "cell_type": "code",
   "execution_count": 1,
   "id": "ec97bced",
   "metadata": {},
   "outputs": [
    {
     "name": "stdout",
     "output_type": "stream",
     "text": [
      "50000\n",
      "60000\n"
     ]
    }
   ],
   "source": [
    "class laptop:\n",
    "    price=0\n",
    "    proc=''\n",
    "    ram=''\n",
    "hp=laptop()\n",
    "dell=laptop()\n",
    "\n",
    "hp.price=50000\n",
    "hp.proc='i5'\n",
    "hp.ram='8gb'\n",
    "\n",
    "dell.price=60000\n",
    "dell.proc='i7'\n",
    "dell.ram='16gb'\n",
    "\n",
    "print(hp.price)\n",
    "print(dell.price)"
   ]
  },
  {
   "cell_type": "code",
   "execution_count": null,
   "id": "12a4332c",
   "metadata": {},
   "outputs": [],
   "source": []
  }
 ],
 "metadata": {
  "kernelspec": {
   "display_name": "Python 3 (ipykernel)",
   "language": "python",
   "name": "python3"
  },
  "language_info": {
   "codemirror_mode": {
    "name": "ipython",
    "version": 3
   },
   "file_extension": ".py",
   "mimetype": "text/x-python",
   "name": "python",
   "nbconvert_exporter": "python",
   "pygments_lexer": "ipython3",
   "version": "3.11.5"
  }
 },
 "nbformat": 4,
 "nbformat_minor": 5
}
