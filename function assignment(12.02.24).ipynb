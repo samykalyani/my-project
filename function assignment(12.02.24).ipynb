{
 "cells": [
  {
   "cell_type": "code",
   "execution_count": 4,
   "id": "33fef002",
   "metadata": {},
   "outputs": [
    {
     "name": "stdout",
     "output_type": "stream",
     "text": [
      "enter a number :6\n",
      "enter a number:5\n",
      "enter a number:9\n",
      "max of three number is: 9\n"
     ]
    }
   ],
   "source": [
    "def find_max(a,b,c):\n",
    "    if a>=b and a>=c:\n",
    "        return a\n",
    "    elif b>=a and b>=c:\n",
    "        return b\n",
    "    else:\n",
    "        return c\n",
    "    \n",
    "x=int(input('enter a number :'))\n",
    "y=int(input('enter a number:'))\n",
    "z=int(input('enter a number:'))\n",
    "\n",
    "print('max of three number is:',find_max(x,y,z))\n",
    "            \n",
    "        "
   ]
  },
  {
   "cell_type": "code",
   "execution_count": 14,
   "id": "4954aa9c",
   "metadata": {},
   "outputs": [
    {
     "name": "stdout",
     "output_type": "stream",
     "text": [
      "20\n"
     ]
    }
   ],
   "source": [
    "def sum_add(n):\n",
    "    n=[8,2,3,0,7]\n",
    "    total=0\n",
    "    for i in n:\n",
    "        total+=i\n",
    "    print(total)\n",
    "sum_add(n)        "
   ]
  },
  {
   "cell_type": "code",
   "execution_count": 18,
   "id": "563d36e9",
   "metadata": {},
   "outputs": [
    {
     "name": "stdout",
     "output_type": "stream",
     "text": [
      "-336\n"
     ]
    }
   ],
   "source": [
    "x=[8,2,3,-1,7]\n",
    "def sum_mul(x):\n",
    "    total=1\n",
    "    for i in x:\n",
    "        total*=i\n",
    "    print(total)\n",
    "sum_mul(x)        \n",
    "    "
   ]
  },
  {
   "cell_type": "code",
   "execution_count": 21,
   "id": "1c03b271",
   "metadata": {},
   "outputs": [
    {
     "name": "stdout",
     "output_type": "stream",
     "text": [
      "dcba4321\n"
     ]
    }
   ],
   "source": [
    "a=('1234abcd')\n",
    "print(a[::-1])"
   ]
  },
  {
   "cell_type": "code",
   "execution_count": null,
   "id": "d24d59e4",
   "metadata": {},
   "outputs": [],
   "source": []
  }
 ],
 "metadata": {
  "kernelspec": {
   "display_name": "Python 3 (ipykernel)",
   "language": "python",
   "name": "python3"
  },
  "language_info": {
   "codemirror_mode": {
    "name": "ipython",
    "version": 3
   },
   "file_extension": ".py",
   "mimetype": "text/x-python",
   "name": "python",
   "nbconvert_exporter": "python",
   "pygments_lexer": "ipython3",
   "version": "3.11.5"
  }
 },
 "nbformat": 4,
 "nbformat_minor": 5
}
