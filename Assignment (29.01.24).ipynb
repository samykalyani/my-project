{
 "cells": [
  {
   "cell_type": "markdown",
   "id": "97d05eaa",
   "metadata": {},
   "source": [
    "# variable declaration:"
   ]
  },
  {
   "cell_type": "code",
   "execution_count": 11,
   "id": "4675e232",
   "metadata": {},
   "outputs": [
    {
     "name": "stdout",
     "output_type": "stream",
     "text": [
      "date type of num1: 10\n",
      "date type of name: john\n",
      "date type of is_python: True\n"
     ]
    }
   ],
   "source": [
    "num1=10\n",
    "name=\"john\"\n",
    "is_python=True\n",
    "print('date type of num1:',(num1))\n",
    "print('date type of name:',(name))\n",
    "print('date type of is_python:',(is_python))"
   ]
  },
  {
   "cell_type": "markdown",
   "id": "74633d1c",
   "metadata": {},
   "source": [
    "# string concatenation:"
   ]
  },
  {
   "cell_type": "code",
   "execution_count": 1,
   "id": "68ce8889",
   "metadata": {},
   "outputs": [
    {
     "name": "stdout",
     "output_type": "stream",
     "text": [
      "Hello,John\n"
     ]
    }
   ],
   "source": [
    "greeting=\"Hello,\"\n",
    "name=\"John\"\n",
    "\n",
    "result=greeting + name\n",
    "print(result)"
   ]
  },
  {
   "cell_type": "code",
   "execution_count": 3,
   "id": "2b1c3d28",
   "metadata": {},
   "outputs": [
    {
     "name": "stdout",
     "output_type": "stream",
     "text": [
      "length of the contenated string 9\n"
     ]
    }
   ],
   "source": [
    "greeting=\"Hello\"\n",
    "name=\"John\"\n",
    "contenated_string=greeting+name\n",
    "length_of_contenated_string=len(contenated_string)\n",
    "print('length of the contenated string',length_of_contenated_string)"
   ]
  },
  {
   "cell_type": "markdown",
   "id": "b6a1e669",
   "metadata": {},
   "source": [
    "# Arithmetic Operators:"
   ]
  },
  {
   "cell_type": "code",
   "execution_count": 1,
   "id": "6d1a64af",
   "metadata": {},
   "outputs": [
    {
     "name": "stdout",
     "output_type": "stream",
     "text": [
      "15\n"
     ]
    }
   ],
   "source": [
    "a=10\n",
    "b=5\n",
    "print(a+b)"
   ]
  },
  {
   "cell_type": "code",
   "execution_count": 2,
   "id": "eda0e594",
   "metadata": {},
   "outputs": [
    {
     "name": "stdout",
     "output_type": "stream",
     "text": [
      "-7\n"
     ]
    }
   ],
   "source": [
    "c=3\n",
    "b=10\n",
    "print(c-b)"
   ]
  },
  {
   "cell_type": "code",
   "execution_count": 3,
   "id": "a404d285",
   "metadata": {},
   "outputs": [
    {
     "name": "stdout",
     "output_type": "stream",
     "text": [
      "20\n"
     ]
    }
   ],
   "source": [
    "b=10\n",
    "x=2\n",
    "print(b*x)"
   ]
  },
  {
   "cell_type": "code",
   "execution_count": 4,
   "id": "c95abe93",
   "metadata": {},
   "outputs": [
    {
     "name": "stdout",
     "output_type": "stream",
     "text": [
      "3.3333333333333335\n"
     ]
    }
   ],
   "source": [
    "a=10\n",
    "b=3\n",
    "print(a/b)"
   ]
  },
  {
   "cell_type": "code",
   "execution_count": 5,
   "id": "685a51d3",
   "metadata": {},
   "outputs": [
    {
     "name": "stdout",
     "output_type": "stream",
     "text": [
      "2\n"
     ]
    }
   ],
   "source": [
    "b=10\n",
    "c=4\n",
    "print(b//c)"
   ]
  },
  {
   "cell_type": "markdown",
   "id": "f2941bc2",
   "metadata": {},
   "source": [
    "# Comparsion Operator"
   ]
  },
  {
   "cell_type": "code",
   "execution_count": 6,
   "id": "0d08b401",
   "metadata": {},
   "outputs": [
    {
     "name": "stdout",
     "output_type": "stream",
     "text": [
      "False\n"
     ]
    }
   ],
   "source": [
    "a=10\n",
    "b=15\n",
    "c=a==b\n",
    "print(c)"
   ]
  },
  {
   "cell_type": "code",
   "execution_count": 7,
   "id": "17a8b2fd",
   "metadata": {},
   "outputs": [
    {
     "name": "stdout",
     "output_type": "stream",
     "text": [
      "True\n"
     ]
    }
   ],
   "source": [
    "a=10\n",
    "b=8\n",
    "c=a>b\n",
    "print(c)"
   ]
  },
  {
   "cell_type": "code",
   "execution_count": 8,
   "id": "6121299f",
   "metadata": {},
   "outputs": [
    {
     "name": "stdout",
     "output_type": "stream",
     "text": [
      "False\n"
     ]
    }
   ],
   "source": [
    "x=10\n",
    "b=10\n",
    "c=(x!=b)\n",
    "print(c)"
   ]
  },
  {
   "cell_type": "code",
   "execution_count": null,
   "id": "9b1c7052",
   "metadata": {},
   "outputs": [],
   "source": []
  }
 ],
 "metadata": {
  "kernelspec": {
   "display_name": "Python 3 (ipykernel)",
   "language": "python",
   "name": "python3"
  },
  "language_info": {
   "codemirror_mode": {
    "name": "ipython",
    "version": 3
   },
   "file_extension": ".py",
   "mimetype": "text/x-python",
   "name": "python",
   "nbconvert_exporter": "python",
   "pygments_lexer": "ipython3",
   "version": "3.11.5"
  }
 },
 "nbformat": 4,
 "nbformat_minor": 5
}
