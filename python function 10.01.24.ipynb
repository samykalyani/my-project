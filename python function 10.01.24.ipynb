{
 "cells": [
  {
   "cell_type": "markdown",
   "id": "d111d110",
   "metadata": {},
   "source": [
    "# function"
   ]
  },
  {
   "cell_type": "code",
   "execution_count": 3,
   "id": "753457ca",
   "metadata": {},
   "outputs": [],
   "source": [
    "* A function is a block of code that performs a specific task\n"
   ]
  },
  {
   "cell_type": "markdown",
   "id": "d4e78e66",
   "metadata": {},
   "source": [
    "# Types of function \n",
    "    There are two types of function in python programming\n",
    "    "
   ]
  },
  {
   "cell_type": "code",
   "execution_count": null,
   "id": "92e3caaa",
   "metadata": {},
   "outputs": [],
   "source": [
    "*standard library function:\n",
    "    \n",
    "        These are bulit -in function in python that are available to use.\n",
    "        \n",
    "*user defined function:\n",
    "    \n",
    "        We can create our own function bases on our requirements. "
   ]
  },
  {
   "cell_type": "markdown",
   "id": "68cfa741",
   "metadata": {},
   "source": [
    "# Python function declaration"
   ]
  },
  {
   "cell_type": "code",
   "execution_count": 6,
   "id": "02a624d2",
   "metadata": {},
   "outputs": [],
   "source": [
    "#The syntax to declare a function is:\n",
    "\n",
    "    def function_name(arugments):\n",
    "        #function boby\n",
    "        return\n",
    "1.def-keuword used to declare a function\n",
    "2.function_name-any name given to the function\n",
    "3.argument-any value passed to function\n",
    "4.return(optional)-returns value from a function"
   ]
  },
  {
   "cell_type": "code",
   "execution_count": 5,
   "id": "89423dfc",
   "metadata": {},
   "outputs": [],
   "source": [
    "def greet():\n",
    "    print('hello python')"
   ]
  },
  {
   "cell_type": "code",
   "execution_count": 1,
   "id": "cd2bdd3d",
   "metadata": {},
   "outputs": [
    {
     "name": "stdout",
     "output_type": "stream",
     "text": [
      "hello python\n"
     ]
    }
   ],
   "source": [
    "print('hello python')"
   ]
  },
  {
   "cell_type": "markdown",
   "id": "609d05a9",
   "metadata": {},
   "source": [
    "# calling function"
   ]
  },
  {
   "cell_type": "code",
   "execution_count": 2,
   "id": "63df7f20",
   "metadata": {},
   "outputs": [
    {
     "name": "stdout",
     "output_type": "stream",
     "text": [
      "hello python\n"
     ]
    }
   ],
   "source": [
    "def function():\n",
    "    print('hello python')\n",
    "function()    "
   ]
  },
  {
   "cell_type": "code",
   "execution_count": 3,
   "id": "da1b41a5",
   "metadata": {},
   "outputs": [
    {
     "name": "stdout",
     "output_type": "stream",
     "text": [
      "hello python\n",
      "hello python\n"
     ]
    }
   ],
   "source": [
    "function()\n",
    "print('hello python')"
   ]
  },
  {
   "cell_type": "code",
   "execution_count": null,
   "id": "4274b9c7",
   "metadata": {},
   "outputs": [],
   "source": []
  },
  {
   "cell_type": "code",
   "execution_count": null,
   "id": "1914fca0",
   "metadata": {},
   "outputs": [],
   "source": []
  }
 ],
 "metadata": {
  "kernelspec": {
   "display_name": "Python 3 (ipykernel)",
   "language": "python",
   "name": "python3"
  },
  "language_info": {
   "codemirror_mode": {
    "name": "ipython",
    "version": 3
   },
   "file_extension": ".py",
   "mimetype": "text/x-python",
   "name": "python",
   "nbconvert_exporter": "python",
   "pygments_lexer": "ipython3",
   "version": "3.11.5"
  }
 },
 "nbformat": 4,
 "nbformat_minor": 5
}
