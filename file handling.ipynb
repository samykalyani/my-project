{
 "cells": [
  {
   "cell_type": "code",
   "execution_count": 2,
   "id": "db82b85e",
   "metadata": {},
   "outputs": [
    {
     "name": "stdout",
     "output_type": "stream",
     "text": [
      "S.no,Date,Name,Degree,Salary\n",
      "1,    1.01.24,kalyani,b.sc,15000\n",
      "2,     02.01.24,susi,b.sc,16000\n",
      "3,   03.01.24,devi,b.com,17000\n",
      "4,  04.01.24,sidhu,b.com,17000\n",
      "5, 05.01.24,kanaga,b.com,30000\n",
      ",,,,\n",
      ",,,,\n",
      ",,,,\n",
      ",,,,\n",
      "\n"
     ]
    }
   ],
   "source": [
    "file=open('file.csv','r')\n",
    "print(file.read())"
   ]
  },
  {
   "cell_type": "code",
   "execution_count": 6,
   "id": "0581c614",
   "metadata": {},
   "outputs": [],
   "source": [
    "import csv\n",
    "col=['s.no','name','degree','salary']\n",
    "row=[[1,'kalyani','b.sc',15000],\n",
    "    [2,'devi','b.com',16000],\n",
    "    [3,'susi','b.sc',17000]]\n",
    "with open('aruvi.csv','w') as w:\n",
    "    writer=csv.writer(w)\n",
    "    writer.writerow(col)\n",
    "    writer.writerows(row)"
   ]
  },
  {
   "cell_type": "code",
   "execution_count": 6,
   "id": "c4474b89",
   "metadata": {},
   "outputs": [
    {
     "name": "stdout",
     "output_type": "stream",
     "text": [
      "hi good morning\n"
     ]
    }
   ],
   "source": [
    "file=open('file2.txt','r')\n",
    "print(file.read())\n",
    "file.close()"
   ]
  },
  {
   "cell_type": "code",
   "execution_count": 14,
   "id": "b175a267",
   "metadata": {},
   "outputs": [],
   "source": [
    "file=open('file2.txt','a')\n",
    "file.write('to all')\n",
    "file.close()"
   ]
  },
  {
   "cell_type": "code",
   "execution_count": 13,
   "id": "462833c1",
   "metadata": {},
   "outputs": [
    {
     "name": "stdout",
     "output_type": "stream",
     "text": [
      "aruvi\n"
     ]
    }
   ],
   "source": [
    "file=open('file2.txt','w+')\n",
    "file.write('aruvi')\n",
    "file.seek(0)\n",
    "print(file.read())\n",
    "file.close()"
   ]
  },
  {
   "cell_type": "code",
   "execution_count": 24,
   "id": "40537d66",
   "metadata": {},
   "outputs": [],
   "source": [
    "file=open('file4.txt','x')\n",
    "file.write('Hi susi')\n",
    "file.close()"
   ]
  },
  {
   "cell_type": "code",
   "execution_count": null,
   "id": "840cff9b",
   "metadata": {},
   "outputs": [],
   "source": [
    "file=open('jackey4.txt','x')\n",
    "file.write(input('enter the frist number:'))\n",
    "file.write(input('enter the second number:'))\n",
    "file.write(input('enter the operator:'))\n",
    "file.seek(0)\n",
    "file.read()\n"
   ]
  },
  {
   "cell_type": "code",
   "execution_count": 1,
   "id": "6e034146",
   "metadata": {},
   "outputs": [],
   "source": [
    "file=open('file4.txt','w+')\n",
    "file.write('\\n susi i learn python now')\n",
    "file.read()\n",
    "file.close()"
   ]
  },
  {
   "cell_type": "code",
   "execution_count": 7,
   "id": "f486b91a",
   "metadata": {},
   "outputs": [],
   "source": [
    "with open('file4.txt','r')as file:\n",
    "    file.read()"
   ]
  },
  {
   "cell_type": "code",
   "execution_count": 9,
   "id": "801e6747",
   "metadata": {},
   "outputs": [
    {
     "name": "stdout",
     "output_type": "stream",
     "text": [
      "enter a no.of.stud:2\n",
      "enter a name:kalyani\n",
      "enter a age:21\n",
      "enter a name:eswaran\n",
      "enter a age:27\n"
     ]
    },
    {
     "ename": "UnsupportedOperation",
     "evalue": "not readable",
     "output_type": "error",
     "traceback": [
      "\u001b[1;31m---------------------------------------------------------------------------\u001b[0m",
      "\u001b[1;31mUnsupportedOperation\u001b[0m                      Traceback (most recent call last)",
      "Cell \u001b[1;32mIn[9], line 10\u001b[0m\n\u001b[0;32m      8\u001b[0m     a\u001b[38;5;241m+\u001b[39m\u001b[38;5;241m=\u001b[39m\u001b[38;5;241m1\u001b[39m\n\u001b[0;32m      9\u001b[0m file\u001b[38;5;241m.\u001b[39mseek(\u001b[38;5;241m0\u001b[39m)\n\u001b[1;32m---> 10\u001b[0m \u001b[38;5;28mprint\u001b[39m(file\u001b[38;5;241m.\u001b[39mread())\n",
      "\u001b[1;31mUnsupportedOperation\u001b[0m: not readable"
     ]
    }
   ],
   "source": [
    "with open('file4.txt','w') as file:\n",
    "    n=int(input('enter a no.of.stud:'))\n",
    "    file.write(f'{n} \\n')\n",
    "    a=1\n",
    "    while a<=n:\n",
    "        file.write(input('enter a name:') +'\\n')\n",
    "        file.write(input('enter a age:') +'\\n')\n",
    "        a+=1\n",
    "    file.seek(0)\n",
    "    print(file.read())\n",
    "    "
   ]
  },
  {
   "cell_type": "code",
   "execution_count": null,
   "id": "4ea38703",
   "metadata": {},
   "outputs": [],
   "source": []
  },
  {
   "cell_type": "code",
   "execution_count": null,
   "id": "c5dd374b",
   "metadata": {},
   "outputs": [],
   "source": []
  }
 ],
 "metadata": {
  "kernelspec": {
   "display_name": "Python 3 (ipykernel)",
   "language": "python",
   "name": "python3"
  },
  "language_info": {
   "codemirror_mode": {
    "name": "ipython",
    "version": 3
   },
   "file_extension": ".py",
   "mimetype": "text/x-python",
   "name": "python",
   "nbconvert_exporter": "python",
   "pygments_lexer": "ipython3",
   "version": "3.11.5"
  }
 },
 "nbformat": 4,
 "nbformat_minor": 5
}
