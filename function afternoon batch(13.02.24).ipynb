{
 "cells": [
  {
   "cell_type": "markdown",
   "id": "688b2826",
   "metadata": {},
   "source": [
    "# function (block of code)\n",
    "two type of function\n",
    "Built in function\n",
    "User defined function"
   ]
  },
  {
   "cell_type": "markdown",
   "id": "8f834dc5",
   "metadata": {},
   "source": [
    "# syntax:\n",
    "def(keyword)f_name(function name)(agr):(arguments)\n",
    "    return(optional)"
   ]
  },
  {
   "cell_type": "code",
   "execution_count": 3,
   "id": "dd705cbd",
   "metadata": {},
   "outputs": [
    {
     "name": "stdout",
     "output_type": "stream",
     "text": [
      "b.sc\n"
     ]
    }
   ],
   "source": [
    "#user define function\n",
    "\n",
    "def kalyani():\n",
    "    print('b.sc')\n",
    "kalyani()    \n",
    "#kalyani()\n",
    "#kalyani()"
   ]
  },
  {
   "cell_type": "code",
   "execution_count": 5,
   "id": "92d0666a",
   "metadata": {},
   "outputs": [
    {
     "name": "stdout",
     "output_type": "stream",
     "text": [
      "12\n"
     ]
    }
   ],
   "source": [
    "def add():\n",
    "    a=5\n",
    "    b=7\n",
    "    print(a+b)\n",
    "add()    \n",
    "    "
   ]
  },
  {
   "cell_type": "code",
   "execution_count": 9,
   "id": "16cb7897",
   "metadata": {},
   "outputs": [
    {
     "name": "stdout",
     "output_type": "stream",
     "text": [
      "12\n"
     ]
    }
   ],
   "source": [
    "#function argument\n",
    "#a=7\n",
    "#b=8\n",
    "def add(a,b):\n",
    "    print(a+b)\n",
    "#add(a,b)    \n",
    "add(6,6)    \n",
    "    "
   ]
  },
  {
   "cell_type": "code",
   "execution_count": 11,
   "id": "7b293458",
   "metadata": {},
   "outputs": [
    {
     "name": "stdout",
     "output_type": "stream",
     "text": [
      "10\n"
     ]
    }
   ],
   "source": [
    "def multi(a,b):\n",
    "    print(a*b)\n",
    "multi(5,2)    "
   ]
  },
  {
   "cell_type": "code",
   "execution_count": 16,
   "id": "82bf4676",
   "metadata": {},
   "outputs": [
    {
     "name": "stdout",
     "output_type": "stream",
     "text": [
      "16\n"
     ]
    }
   ],
   "source": [
    "def power(x,y):\n",
    "    print(x**y)\n",
    "power(2,4)    "
   ]
  },
  {
   "cell_type": "code",
   "execution_count": 17,
   "id": "c7fdd38c",
   "metadata": {},
   "outputs": [
    {
     "name": "stdout",
     "output_type": "stream",
     "text": [
      "-2\n"
     ]
    }
   ],
   "source": [
    "def sub(a,b):\n",
    "    print(a-b)\n",
    "sub(3,5)    \n",
    "    "
   ]
  },
  {
   "cell_type": "code",
   "execution_count": 27,
   "id": "7b8ca63e",
   "metadata": {},
   "outputs": [
    {
     "name": "stdout",
     "output_type": "stream",
     "text": [
      "0.3333333333333333\n"
     ]
    }
   ],
   "source": [
    "def divide(a,b):\n",
    "    print(a/b)\n",
    "divide(2,6)    \n",
    "    "
   ]
  },
  {
   "cell_type": "code",
   "execution_count": 32,
   "id": "f5c6b588",
   "metadata": {},
   "outputs": [
    {
     "name": "stdout",
     "output_type": "stream",
     "text": [
      "0\n"
     ]
    }
   ],
   "source": [
    "def floordivide(x,y):\n",
    "    print(x//y)\n",
    "floordivide(2,8)    "
   ]
  },
  {
   "cell_type": "code",
   "execution_count": 33,
   "id": "b5cb98be",
   "metadata": {},
   "outputs": [
    {
     "name": "stdout",
     "output_type": "stream",
     "text": [
      "1\n"
     ]
    }
   ],
   "source": [
    "def modulo(a,b):\n",
    "    print(a%b)\n",
    "modulo(3,2)"
   ]
  },
  {
   "cell_type": "code",
   "execution_count": 38,
   "id": "d7fef5d0",
   "metadata": {},
   "outputs": [
    {
     "name": "stdout",
     "output_type": "stream",
     "text": [
      "161\n"
     ]
    }
   ],
   "source": [
    "def ret(aa,bb):\n",
    "    return(aa+bb)\n",
    "#ret(70,91)\n",
    "print(ret(70,91))"
   ]
  },
  {
   "cell_type": "code",
   "execution_count": 42,
   "id": "84a2c152",
   "metadata": {},
   "outputs": [
    {
     "name": "stdout",
     "output_type": "stream",
     "text": [
      "10\n"
     ]
    }
   ],
   "source": [
    "def add(a,b):\n",
    "    return(a+b)\n",
    "print(add(5,5))"
   ]
  },
  {
   "cell_type": "code",
   "execution_count": 43,
   "id": "ed814367",
   "metadata": {},
   "outputs": [
    {
     "name": "stdout",
     "output_type": "stream",
     "text": [
      "8\n",
      "8\n",
      "None\n"
     ]
    }
   ],
   "source": [
    "def add(a,b):\n",
    "    print(a+b)\n",
    "add(4,4) \n",
    "print(add(4,4))"
   ]
  },
  {
   "cell_type": "code",
   "execution_count": 44,
   "id": "79c713e2",
   "metadata": {},
   "outputs": [
    {
     "name": "stdout",
     "output_type": "stream",
     "text": [
      "100\n",
      "100\n"
     ]
    }
   ],
   "source": [
    "a=10\n",
    "def square(a):\n",
    "    print(a**2)\n",
    "    print(a*a)\n",
    "square(10)    "
   ]
  },
  {
   "cell_type": "markdown",
   "id": "f335ec99",
   "metadata": {},
   "source": [
    "# Task(08.02.24)sum( ) function"
   ]
  },
  {
   "cell_type": "code",
   "execution_count": 9,
   "id": "7de1ec8b",
   "metadata": {},
   "outputs": [
    {
     "name": "stdout",
     "output_type": "stream",
     "text": [
      "36\n"
     ]
    }
   ],
   "source": [
    "n=[3,6,8,9,2,7]\n",
    "def add_sum(n):\n",
    "    total=1\n",
    "    for i in n:\n",
    "        total+=i\n",
    "    print(total)\n",
    "add_sum(n)    \n",
    "        \n",
    "       "
   ]
  },
  {
   "cell_type": "code",
   "execution_count": 10,
   "id": "55f8b4ed",
   "metadata": {},
   "outputs": [
    {
     "name": "stdout",
     "output_type": "stream",
     "text": [
      "29\n"
     ]
    }
   ],
   "source": [
    "add_sum([3,6,8,9,2])"
   ]
  },
  {
   "cell_type": "code",
   "execution_count": 1,
   "id": "dead4846",
   "metadata": {},
   "outputs": [
    {
     "name": "stdout",
     "output_type": "stream",
     "text": [
      "8\n"
     ]
    }
   ],
   "source": [
    "def add(x,y):\n",
    "    return x+y\n",
    "print(add(3,5))"
   ]
  },
  {
   "cell_type": "code",
   "execution_count": 5,
   "id": "2f4f2f36",
   "metadata": {},
   "outputs": [
    {
     "name": "stdout",
     "output_type": "stream",
     "text": [
      "13\n",
      "None\n"
     ]
    }
   ],
   "source": [
    "def add(x,y):\n",
    "    print(x+y)\n",
    "print(add(10,3))    "
   ]
  },
  {
   "cell_type": "code",
   "execution_count": 7,
   "id": "6d0db560",
   "metadata": {},
   "outputs": [
    {
     "name": "stdout",
     "output_type": "stream",
     "text": [
      "square: 9\n"
     ]
    }
   ],
   "source": [
    "def find(num):\n",
    "    result=num*num\n",
    "    return result\n",
    "square=find(3)\n",
    "print('square:',square)"
   ]
  },
  {
   "cell_type": "markdown",
   "id": "7b4af607",
   "metadata": {},
   "source": [
    "# library function\n"
   ]
  },
  {
   "cell_type": "code",
   "execution_count": 10,
   "id": "fe9a129d",
   "metadata": {},
   "outputs": [
    {
     "name": "stdout",
     "output_type": "stream",
     "text": [
      "5.0\n"
     ]
    }
   ],
   "source": [
    "import math\n",
    "print(math.sqrt(25))"
   ]
  },
  {
   "cell_type": "code",
   "execution_count": 9,
   "id": "4f5eae72",
   "metadata": {},
   "outputs": [
    {
     "name": "stdout",
     "output_type": "stream",
     "text": [
      "1000.0\n"
     ]
    }
   ],
   "source": [
    "import math\n",
    "print(math.pow(10,3))"
   ]
  },
  {
   "cell_type": "code",
   "execution_count": 11,
   "id": "d34cdf4e",
   "metadata": {},
   "outputs": [
    {
     "name": "stdout",
     "output_type": "stream",
     "text": [
      "APPLE\n",
      "BANANA\n",
      "CHERRY\n",
      "PYTHON\n"
     ]
    }
   ],
   "source": [
    "a=['apple','banana','cherry','python']\n",
    "def upper(a):\n",
    "    for m in a:\n",
    "        print(m.upper())\n",
    "upper(a)        "
   ]
  },
  {
   "cell_type": "code",
   "execution_count": 12,
   "id": "c206429c",
   "metadata": {},
   "outputs": [
    {
     "name": "stdout",
     "output_type": "stream",
     "text": [
      "2\n",
      "3\n",
      "4\n",
      "5\n",
      "100\n"
     ]
    }
   ],
   "source": [
    "#ex:\n",
    "a=['pyth',2,3,4,5,'python2',-1,-2,-3,-4,'c++',100]\n",
    "def positive(a):\n",
    "    for i in a:\n",
    "        if type(i)!=str:\n",
    "            if i>0:\n",
    "                print(i)\n",
    "positive(a)                \n",
    "                "
   ]
  },
  {
   "cell_type": "markdown",
   "id": "df3a1685",
   "metadata": {},
   "source": [
    "# Benefits of using function"
   ]
  },
  {
   "cell_type": "code",
   "execution_count": 13,
   "id": "6c81b5c8",
   "metadata": {},
   "outputs": [
    {
     "name": "stdout",
     "output_type": "stream",
     "text": [
      "1\n",
      "64\n",
      "100\n",
      "144\n",
      "324\n",
      "400\n"
     ]
    }
   ],
   "source": [
    "a=[1,8,10,12,18,20]\n",
    "def square(x):\n",
    "    for i in x:\n",
    "        print(i*i)\n",
    "square(a)        "
   ]
  },
  {
   "cell_type": "code",
   "execution_count": 15,
   "id": "61706711",
   "metadata": {},
   "outputs": [
    {
     "name": "stdout",
     "output_type": "stream",
     "text": [
      "720\n",
      "0\n"
     ]
    }
   ],
   "source": [
    "def mul(x,y,z=0):\n",
    "    print(x*y*z)\n",
    "mul(8,9,10)\n",
    "mul(10,7)"
   ]
  },
  {
   "cell_type": "markdown",
   "id": "50a4380b",
   "metadata": {},
   "source": [
    "# keyword argument"
   ]
  },
  {
   "cell_type": "code",
   "execution_count": 19,
   "id": "1d526f6b",
   "metadata": {},
   "outputs": [
    {
     "name": "stdout",
     "output_type": "stream",
     "text": [
      "200\n"
     ]
    }
   ],
   "source": [
    "def mul(x,y,z):\n",
    "    print(x*y*z)\n",
    "#mul(x=10,y=7,z=20) \n",
    "mul(x=10,z=2,y=10)"
   ]
  },
  {
   "cell_type": "markdown",
   "id": "4eebc09e",
   "metadata": {},
   "source": [
    "# function with arbitrary arugments (*)"
   ]
  },
  {
   "cell_type": "code",
   "execution_count": 29,
   "id": "5c8385a1",
   "metadata": {},
   "outputs": [
    {
     "name": "stdout",
     "output_type": "stream",
     "text": [
      "10\n"
     ]
    }
   ],
   "source": [
    "def arb(*x):\n",
    "    a=0\n",
    "    for i in x:\n",
    "        a+=i\n",
    "    print(a)\n",
    "arb(1,2,3,4)        "
   ]
  },
  {
   "cell_type": "code",
   "execution_count": 30,
   "id": "334356b2",
   "metadata": {},
   "outputs": [
    {
     "name": "stdout",
     "output_type": "stream",
     "text": [
      "5\n",
      "(6, 7, 8, 9)\n"
     ]
    }
   ],
   "source": [
    "def arb(x,*y):\n",
    "    print(x)\n",
    "    print(y)\n",
    "arb(5,6,7,8,9)    \n",
    "    "
   ]
  },
  {
   "cell_type": "code",
   "execution_count": 21,
   "id": "722c628e",
   "metadata": {},
   "outputs": [
    {
     "name": "stdout",
     "output_type": "stream",
     "text": [
      "python 21\n"
     ]
    }
   ],
   "source": [
    "#keyword arugment\n",
    "def fun(**x):\n",
    "    print(x['name'],x['age'])\n",
    "fun(name='python',age=21)    \n",
    "    \n",
    "        "
   ]
  },
  {
   "cell_type": "markdown",
   "id": "3b3e8901",
   "metadata": {},
   "source": [
    "# lambda function declartion\n",
    "#syntax:\n",
    "lambda arg:expression.\n"
   ]
  },
  {
   "cell_type": "code",
   "execution_count": 31,
   "id": "92198fb5",
   "metadata": {},
   "outputs": [
    {
     "name": "stdout",
     "output_type": "stream",
     "text": [
      "Hello python\n"
     ]
    }
   ],
   "source": [
    "b=lambda : print('Hello python')\n",
    "b()"
   ]
  },
  {
   "cell_type": "code",
   "execution_count": 32,
   "id": "bc3b551b",
   "metadata": {},
   "outputs": [
    {
     "name": "stdout",
     "output_type": "stream",
     "text": [
      "20\n"
     ]
    }
   ],
   "source": [
    "#add\n",
    "add=lambda x,y :print(x+y)\n",
    "add(15,5)\n"
   ]
  },
  {
   "cell_type": "code",
   "execution_count": 40,
   "id": "a4d35c42",
   "metadata": {},
   "outputs": [
    {
     "name": "stdout",
     "output_type": "stream",
     "text": [
      "100 16\n"
     ]
    }
   ],
   "source": [
    "#square---(**2)\n",
    "square=lambda x,y:print(x**2,y**2)\n",
    "square(10,4)\n",
    "                        \n"
   ]
  },
  {
   "cell_type": "code",
   "execution_count": 55,
   "id": "e0c84ee7",
   "metadata": {},
   "outputs": [
    {
     "name": "stdout",
     "output_type": "stream",
     "text": [
      "0\n",
      "1\n",
      "2\n",
      "3\n",
      "4\n",
      "5\n",
      "6\n",
      "[0, 1, 2, 3, 4, 5, 6]\n"
     ]
    }
   ],
   "source": [
    "for i in range(7):\n",
    "    print(i)\n",
    "print([i for i in range(7)])"
   ]
  },
  {
   "cell_type": "code",
   "execution_count": 57,
   "id": "964d46f1",
   "metadata": {},
   "outputs": [
    {
     "name": "stdout",
     "output_type": "stream",
     "text": [
      "[0, 1, 2, 3, 4]\n"
     ]
    }
   ],
   "source": [
    "#list comprehension:\n",
    "print([i for i in range(5)])"
   ]
  },
  {
   "cell_type": "code",
   "execution_count": 33,
   "id": "e18b38ef",
   "metadata": {
    "scrolled": true
   },
   "outputs": [
    {
     "name": "stdout",
     "output_type": "stream",
     "text": [
      "[6, 3, 4, 2]\n"
     ]
    }
   ],
   "source": [
    "print([(lambda i:len(i))(ii) for ii in ['python','c++','java','c#']])\n",
    "\n",
    "                                  "
   ]
  },
  {
   "cell_type": "code",
   "execution_count": 30,
   "id": "ec3c74c6",
   "metadata": {},
   "outputs": [
    {
     "name": "stdout",
     "output_type": "stream",
     "text": [
      "120\n"
     ]
    }
   ],
   "source": [
    "#for loop with factorial method\n",
    "a=1\n",
    "n=5\n",
    "for i in range(1,n+1):\n",
    "    a=a*i\n",
    "print(a)\n",
    "    "
   ]
  },
  {
   "cell_type": "markdown",
   "id": "ad25df28",
   "metadata": {},
   "source": [
    "# map()Function\n",
    "\n",
    "  1. Function executes a specified function for each iterable\n",
    "  2. Sent parameter in function\n",
    "  \n",
    "  SYNTAX:\n",
    "      Map(function,iterables)"
   ]
  },
  {
   "cell_type": "code",
   "execution_count": 32,
   "id": "5068296e",
   "metadata": {},
   "outputs": [
    {
     "name": "stdout",
     "output_type": "stream",
     "text": [
      "[1, 4, 9, 16, 25]\n"
     ]
    }
   ],
   "source": [
    "print (list(map(lambda i:i**2,[1,2,3,4,5])))"
   ]
  },
  {
   "cell_type": "code",
   "execution_count": 43,
   "id": "3786e923",
   "metadata": {},
   "outputs": [
    {
     "data": {
      "text/plain": [
       "[1, 4, 9, 16, 25, 36, 49]"
      ]
     },
     "execution_count": 43,
     "metadata": {},
     "output_type": "execute_result"
    }
   ],
   "source": [
    "def pow (i):\n",
    "    return(i**2)\n",
    "list (map(pow,[1,2,3,4,5,6,7]))    "
   ]
  },
  {
   "cell_type": "code",
   "execution_count": 15,
   "id": "251d8722",
   "metadata": {},
   "outputs": [],
   "source": [
    "def add(n):\n",
    "    print(n+n)\n",
    "    list(map(add,[20,30,40,50]))"
   ]
  },
  {
   "cell_type": "code",
   "execution_count": null,
   "id": "9286c2e6",
   "metadata": {},
   "outputs": [],
   "source": []
  }
 ],
 "metadata": {
  "kernelspec": {
   "display_name": "Python 3 (ipykernel)",
   "language": "python",
   "name": "python3"
  },
  "language_info": {
   "codemirror_mode": {
    "name": "ipython",
    "version": 3
   },
   "file_extension": ".py",
   "mimetype": "text/x-python",
   "name": "python",
   "nbconvert_exporter": "python",
   "pygments_lexer": "ipython3",
   "version": "3.11.5"
  }
 },
 "nbformat": 4,
 "nbformat_minor": 5
}
