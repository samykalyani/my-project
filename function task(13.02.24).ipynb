{
 "cells": [
  {
   "cell_type": "markdown",
   "id": "6cc97cc6",
   "metadata": {},
   "source": [
    "# function definition"
   ]
  },
  {
   "cell_type": "code",
   "execution_count": 4,
   "id": "0ad3d06f",
   "metadata": {},
   "outputs": [
    {
     "name": "stdout",
     "output_type": "stream",
     "text": [
      "hello,\n",
      "kalyani! how are you today\n"
     ]
    }
   ],
   "source": [
    "def greet():\n",
    "    print('hello,')\n",
    "greet()\n",
    "print('kalyani!','how are you today')\n"
   ]
  },
  {
   "cell_type": "markdown",
   "id": "b7971460",
   "metadata": {},
   "source": [
    "# Function argument"
   ]
  },
  {
   "cell_type": "code",
   "execution_count": 8,
   "id": "7fef3afd",
   "metadata": {},
   "outputs": [
    {
     "name": "stdout",
     "output_type": "stream",
     "text": [
      "sum: 14\n"
     ]
    }
   ],
   "source": [
    "def add_numbers(num1,num2):\n",
    "    sum=num1+num2\n",
    "    print('sum:',sum)\n",
    "add_numbers(10,4)    \n"
   ]
  },
  {
   "cell_type": "markdown",
   "id": "bd9656c5",
   "metadata": {},
   "source": [
    "# Default arugment"
   ]
  },
  {
   "cell_type": "code",
   "execution_count": 13,
   "id": "a4b368d4",
   "metadata": {},
   "outputs": [
    {
     "ename": "NameError",
     "evalue": "name 'width1' is not defined",
     "output_type": "error",
     "traceback": [
      "\u001b[1;31m---------------------------------------------------------------------------\u001b[0m",
      "\u001b[1;31mNameError\u001b[0m                                 Traceback (most recent call last)",
      "Cell \u001b[1;32mIn[13], line 5\u001b[0m\n\u001b[0;32m      3\u001b[0m length1\u001b[38;5;241m=\u001b[39m\u001b[38;5;241m5\u001b[39m\n\u001b[0;32m      4\u001b[0m Width1\u001b[38;5;241m=\u001b[39m\u001b[38;5;241m3\u001b[39m\n\u001b[1;32m----> 5\u001b[0m area1\u001b[38;5;241m=\u001b[39mcalculate_area(length1,width1)\n\u001b[0;32m      6\u001b[0m \u001b[38;5;28mprint\u001b[39m(\u001b[38;5;124mf\u001b[39m\u001b[38;5;124m'\u001b[39m\u001b[38;5;124marea of rectangle with length \u001b[39m\u001b[38;5;132;01m{\u001b[39;00mlength1\u001b[38;5;132;01m}\u001b[39;00m\u001b[38;5;124m and width \u001b[39m\u001b[38;5;132;01m{\u001b[39;00mwidth1\u001b[38;5;132;01m}\u001b[39;00m\u001b[38;5;124m : \u001b[39m\u001b[38;5;132;01m{\u001b[39;00marea1\u001b[38;5;132;01m}\u001b[39;00m\u001b[38;5;124m \u001b[39m\u001b[38;5;124m'\u001b[39m)\n",
      "\u001b[1;31mNameError\u001b[0m: name 'width1' is not defined"
     ]
    }
   ],
   "source": [
    "def calculate_area(length,width=1):\n",
    "    return length *width\n",
    "length1=5\n",
    "Width1=3\n",
    "area1=calculate_area(length1,width1)\n",
    "print(f'area of rectangle with length {length1} and width {width1} : {area1} ')\n",
    "\n",
    "    "
   ]
  },
  {
   "cell_type": "markdown",
   "id": "d98ede28",
   "metadata": {},
   "source": [
    "# Arbitrary function"
   ]
  },
  {
   "cell_type": "code",
   "execution_count": 4,
   "id": "951f73a0",
   "metadata": {},
   "outputs": [
    {
     "name": "stdout",
     "output_type": "stream",
     "text": [
      "1\n",
      "2\n",
      "3\n",
      "4\n",
      "5\n",
      "\n",
      "I like to learn python\n",
      "\n",
      "[1, 2, 3, 4, 5]\n",
      "[6, 7, 8, 9, 10]\n",
      "\n"
     ]
    }
   ],
   "source": [
    "def display_items(*args):\n",
    "    for item in args:\n",
    "        print(item)\n",
    "display_items(1,2,3,4,5)\n",
    "print()\n",
    "display_items('I like to learn python')\n",
    "print()\n",
    "display_items([1,2,3,4,5],[6,7,8,9,10])\n",
    "print()\n",
    "display_items()"
   ]
  },
  {
   "cell_type": "code",
   "execution_count": null,
   "id": "93ef313f",
   "metadata": {},
   "outputs": [],
   "source": []
  },
  {
   "cell_type": "code",
   "execution_count": null,
   "id": "e67fd0f9",
   "metadata": {},
   "outputs": [],
   "source": []
  }
 ],
 "metadata": {
  "kernelspec": {
   "display_name": "Python 3 (ipykernel)",
   "language": "python",
   "name": "python3"
  },
  "language_info": {
   "codemirror_mode": {
    "name": "ipython",
    "version": 3
   },
   "file_extension": ".py",
   "mimetype": "text/x-python",
   "name": "python",
   "nbconvert_exporter": "python",
   "pygments_lexer": "ipython3",
   "version": "3.11.5"
  }
 },
 "nbformat": 4,
 "nbformat_minor": 5
}
