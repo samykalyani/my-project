{
 "cells": [
  {
   "cell_type": "code",
   "execution_count": 5,
   "id": "75c03e24",
   "metadata": {},
   "outputs": [
    {
     "name": "stdout",
     "output_type": "stream",
     "text": [
      "name is,age is aruvi 22\n"
     ]
    }
   ],
   "source": [
    "name='aruvi'\n",
    "age=22\n",
    "print('name is,age is',name,age)"
   ]
  },
  {
   "cell_type": "code",
   "execution_count": 6,
   "id": "c88fa554",
   "metadata": {},
   "outputs": [
    {
     "name": "stdout",
     "output_type": "stream",
     "text": [
      "aruvi 22\n"
     ]
    }
   ],
   "source": [
    "print(name,age)"
   ]
  },
  {
   "cell_type": "code",
   "execution_count": 11,
   "id": "e53c3cf4",
   "metadata": {},
   "outputs": [
    {
     "name": "stdout",
     "output_type": "stream",
     "text": [
      "name is aruvi, age is 22\n"
     ]
    }
   ],
   "source": [
    "print('name is {}, age is {}'.format(name,age))"
   ]
  },
  {
   "cell_type": "code",
   "execution_count": 14,
   "id": "631313dc",
   "metadata": {},
   "outputs": [
    {
     "name": "stdout",
     "output_type": "stream",
     "text": [
      "name is 22,age is aruvi\n"
     ]
    }
   ],
   "source": [
    "print('name is {1},age is {0}'.format(name,age))"
   ]
  },
  {
   "cell_type": "code",
   "execution_count": 16,
   "id": "31008630",
   "metadata": {},
   "outputs": [
    {
     "name": "stdout",
     "output_type": "stream",
     "text": [
      "name is aruvi,age is 22\n"
     ]
    }
   ],
   "source": [
    "print(f'name is {name},age is {age}')"
   ]
  },
  {
   "cell_type": "code",
   "execution_count": 18,
   "id": "8a9ce28a",
   "metadata": {},
   "outputs": [
    {
     "name": "stdout",
     "output_type": "stream",
     "text": [
      "name is s.kalyani,age is 21,salary is 15000\n"
     ]
    }
   ],
   "source": [
    "name='s.kalyani'\n",
    "age=21\n",
    "salary=15000\n",
    "print(f'name is {name},age is {21},salary is {15000}')"
   ]
  },
  {
   "cell_type": "markdown",
   "id": "d03dec1d",
   "metadata": {},
   "source": [
    "# string modify "
   ]
  },
  {
   "cell_type": "code",
   "execution_count": 21,
   "id": "62b34d8b",
   "metadata": {},
   "outputs": [
    {
     "name": "stdout",
     "output_type": "stream",
     "text": [
      "PYTHON\n"
     ]
    }
   ],
   "source": [
    "a='python'\n",
    "print(a.upper())"
   ]
  },
  {
   "cell_type": "code",
   "execution_count": 22,
   "id": "d5c77c75",
   "metadata": {},
   "outputs": [
    {
     "name": "stdout",
     "output_type": "stream",
     "text": [
      "python\n"
     ]
    }
   ],
   "source": [
    "x='PYTHON'\n",
    "print(x.lower())"
   ]
  },
  {
   "cell_type": "code",
   "execution_count": 23,
   "id": "dce17163",
   "metadata": {},
   "outputs": [
    {
     "name": "stdout",
     "output_type": "stream",
     "text": [
      "pyTHoN\n"
     ]
    }
   ],
   "source": [
    "c='PYthOn'\n",
    "print(c.swapcase())"
   ]
  },
  {
   "cell_type": "code",
   "execution_count": 24,
   "id": "ca821604",
   "metadata": {},
   "outputs": [
    {
     "name": "stdout",
     "output_type": "stream",
     "text": [
      "Python\n"
     ]
    }
   ],
   "source": [
    "a='python'\n",
    "print(a.capitalize())#frist letter only upper letter"
   ]
  },
  {
   "cell_type": "code",
   "execution_count": 27,
   "id": "b7e05911",
   "metadata": {},
   "outputs": [
    {
     "name": "stdout",
     "output_type": "stream",
     "text": [
      "******kalyani*******\n"
     ]
    }
   ],
   "source": [
    "x='kalyani'\n",
    "print(x.center(20,'*'))#center align"
   ]
  },
  {
   "cell_type": "code",
   "execution_count": 30,
   "id": "85ed9029",
   "metadata": {},
   "outputs": [
    {
     "name": "stdout",
     "output_type": "stream",
     "text": [
      "2\n"
     ]
    }
   ],
   "source": [
    "a='python python'\n",
    "print(a.count('o'))"
   ]
  },
  {
   "cell_type": "code",
   "execution_count": 31,
   "id": "ce6c926e",
   "metadata": {},
   "outputs": [
    {
     "name": "stdout",
     "output_type": "stream",
     "text": [
      "2\n"
     ]
    }
   ],
   "source": [
    "d=\"python is a most is\"\n",
    "print(d.count('is'))"
   ]
  },
  {
   "cell_type": "code",
   "execution_count": 32,
   "id": "b22dfc46",
   "metadata": {},
   "outputs": [
    {
     "name": "stdout",
     "output_type": "stream",
     "text": [
      "True\n"
     ]
    }
   ],
   "source": [
    "print(d.endswith('is'))"
   ]
  },
  {
   "cell_type": "code",
   "execution_count": 33,
   "id": "98d9fafa",
   "metadata": {},
   "outputs": [
    {
     "name": "stdout",
     "output_type": "stream",
     "text": [
      "False\n"
     ]
    }
   ],
   "source": [
    "print(d.endswith('a'))"
   ]
  },
  {
   "cell_type": "code",
   "execution_count": 34,
   "id": "0f82e0a3",
   "metadata": {},
   "outputs": [
    {
     "name": "stdout",
     "output_type": "stream",
     "text": [
      "4\n"
     ]
    }
   ],
   "source": [
    "print(a.find('o'))"
   ]
  },
  {
   "cell_type": "code",
   "execution_count": 35,
   "id": "1815b416",
   "metadata": {},
   "outputs": [
    {
     "name": "stdout",
     "output_type": "stream",
     "text": [
      "11\n"
     ]
    }
   ],
   "source": [
    "print(a.find('o',5))#find(value ,start,end)"
   ]
  },
  {
   "cell_type": "code",
   "execution_count": 4,
   "id": "cf95ceef",
   "metadata": {},
   "outputs": [
    {
     "name": "stdout",
     "output_type": "stream",
     "text": [
      "3\n",
      "2\n"
     ]
    }
   ],
   "source": [
    "a='python'\n",
    "print(a.find('h'))#not assign the value in find -1\n",
    "print(a.index('t'))#not assign the value in index error"
   ]
  },
  {
   "cell_type": "code",
   "execution_count": 5,
   "id": "889ed64f",
   "metadata": {},
   "outputs": [
    {
     "name": "stdout",
     "output_type": "stream",
     "text": [
      "True\n"
     ]
    }
   ],
   "source": [
    "a='pytho30'\n",
    "print(a.isalnum())#[atoz]or[0to9]"
   ]
  },
  {
   "cell_type": "code",
   "execution_count": 9,
   "id": "a836e278",
   "metadata": {},
   "outputs": [
    {
     "name": "stdout",
     "output_type": "stream",
     "text": [
      "True\n"
     ]
    }
   ],
   "source": [
    "b='12345'\n",
    "print(b.isalnum()) "
   ]
  },
  {
   "cell_type": "code",
   "execution_count": 13,
   "id": "dcb68249",
   "metadata": {},
   "outputs": [
    {
     "name": "stdout",
     "output_type": "stream",
     "text": [
      "False\n"
     ]
    }
   ],
   "source": [
    "a='python5'\n",
    "print(a.isalpha())"
   ]
  },
  {
   "cell_type": "code",
   "execution_count": 18,
   "id": "be0ec62a",
   "metadata": {},
   "outputs": [
    {
     "name": "stdout",
     "output_type": "stream",
     "text": [
      "apple,orange,grape\n"
     ]
    }
   ],
   "source": [
    "b=('apple','orange','grape')\n",
    "print(','.join(b))"
   ]
  },
  {
   "cell_type": "code",
   "execution_count": 3,
   "id": "439817e0",
   "metadata": {},
   "outputs": [
    {
     "name": "stdout",
     "output_type": "stream",
     "text": [
      "['hi', 'good', 'evening']\n"
     ]
    }
   ],
   "source": [
    "b='hi good evening'\n",
    "print(b.split())"
   ]
  },
  {
   "cell_type": "code",
   "execution_count": 5,
   "id": "3a43769b",
   "metadata": {},
   "outputs": [
    {
     "name": "stdout",
     "output_type": "stream",
     "text": [
      "['hi', 'good', 'evening']\n"
     ]
    }
   ],
   "source": [
    "b='hi,good,evening'\n",
    "print(b.split(','))"
   ]
  },
  {
   "cell_type": "code",
   "execution_count": 7,
   "id": "3041ab1c",
   "metadata": {},
   "outputs": [
    {
     "name": "stdout",
     "output_type": "stream",
     "text": [
      "        aruvi       \n",
      "aruvi\n"
     ]
    }
   ],
   "source": [
    "a='        aruvi       '\n",
    "print(a)\n",
    "print(a.strip())\n"
   ]
  },
  {
   "cell_type": "code",
   "execution_count": 8,
   "id": "92e4c66f",
   "metadata": {},
   "outputs": [
    {
     "name": "stdout",
     "output_type": "stream",
     "text": [
      "aruvi       \n",
      "        aruvi\n"
     ]
    }
   ],
   "source": [
    "print(a.lstrip())#lef\n",
    "\n",
    "print(a.rstrip())#right"
   ]
  },
  {
   "cell_type": "code",
   "execution_count": 10,
   "id": "1f7056d4",
   "metadata": {},
   "outputs": [
    {
     "name": "stdout",
     "output_type": "stream",
     "text": [
      "Hi How are u \n"
     ]
    }
   ],
   "source": [
    "b='hi how are u '\n",
    "print(b.replace('h','H'))"
   ]
  },
  {
   "cell_type": "markdown",
   "id": "7c82ef96",
   "metadata": {},
   "source": [
    "# escape character"
   ]
  },
  {
   "cell_type": "code",
   "execution_count": 14,
   "id": "917ff3cb",
   "metadata": {},
   "outputs": [
    {
     "name": "stdout",
     "output_type": "stream",
     "text": [
      "I' am good\n"
     ]
    }
   ],
   "source": [
    "a='I\\' am good'\n",
    "print(a)"
   ]
  },
  {
   "cell_type": "code",
   "execution_count": 15,
   "id": "f4ed4e32",
   "metadata": {},
   "outputs": [
    {
     "name": "stdout",
     "output_type": "stream",
     "text": [
      "I am \n",
      " good\n"
     ]
    }
   ],
   "source": [
    "a=\"I am \\n good\"#\\n mean new line\n",
    "print(a)"
   ]
  },
  {
   "cell_type": "code",
   "execution_count": 16,
   "id": "a5ea693d",
   "metadata": {},
   "outputs": [
    {
     "name": "stdout",
     "output_type": "stream",
     "text": [
      "I\" am good\n"
     ]
    }
   ],
   "source": [
    "a='I\" am good'\n",
    "print(a)"
   ]
  },
  {
   "cell_type": "code",
   "execution_count": 17,
   "id": "b07e67fc",
   "metadata": {},
   "outputs": [
    {
     "name": "stdout",
     "output_type": "stream",
     "text": [
      "I'am good\n"
     ]
    }
   ],
   "source": [
    "a=\"I'am good\"\n",
    "print(a)"
   ]
  },
  {
   "cell_type": "code",
   "execution_count": 18,
   "id": "da51b9e1",
   "metadata": {},
   "outputs": [
    {
     "name": "stdout",
     "output_type": "stream",
     "text": [
      "I am \t good\n"
     ]
    }
   ],
   "source": [
    "a=\"I am \\t good\"#\\t mean tab \n",
    "print(a)"
   ]
  },
  {
   "cell_type": "code",
   "execution_count": 19,
   "id": "985a4cd2",
   "metadata": {},
   "outputs": [
    {
     "name": "stdout",
     "output_type": "stream",
     "text": [
      "I am \b good\n"
     ]
    }
   ],
   "source": [
    "a=\"I am \\b good\"#\\b mean backspace\n",
    "print(a)"
   ]
  },
  {
   "cell_type": "code",
   "execution_count": null,
   "id": "fd39f823",
   "metadata": {},
   "outputs": [],
   "source": []
  }
 ],
 "metadata": {
  "kernelspec": {
   "display_name": "Python 3 (ipykernel)",
   "language": "python",
   "name": "python3"
  },
  "language_info": {
   "codemirror_mode": {
    "name": "ipython",
    "version": 3
   },
   "file_extension": ".py",
   "mimetype": "text/x-python",
   "name": "python",
   "nbconvert_exporter": "python",
   "pygments_lexer": "ipython3",
   "version": "3.11.5"
  }
 },
 "nbformat": 4,
 "nbformat_minor": 5
}
