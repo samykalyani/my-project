{
 "cells": [
  {
   "cell_type": "code",
   "execution_count": 6,
   "id": "2fb9e788",
   "metadata": {},
   "outputs": [],
   "source": [
    "a=10\n",
    "if a==15:\n",
    "    print('a is 10')"
   ]
  },
  {
   "cell_type": "code",
   "execution_count": 5,
   "id": "84573cbe",
   "metadata": {},
   "outputs": [
    {
     "name": "stdout",
     "output_type": "stream",
     "text": [
      "program is excuted\n"
     ]
    }
   ],
   "source": [
    "mark=20\n",
    "if mark>35:\n",
    "    print('pass')\n",
    "print(\"program is excuted\")"
   ]
  },
  {
   "cell_type": "code",
   "execution_count": 9,
   "id": "fbe56113",
   "metadata": {},
   "outputs": [
    {
     "name": "stdout",
     "output_type": "stream",
     "text": [
      "excuted\n"
     ]
    }
   ],
   "source": [
    "a=-1\n",
    "if a>0:\n",
    "    print('number is positive')\n",
    "print('excuted')"
   ]
  },
  {
   "cell_type": "raw",
   "id": "4d82980d",
   "metadata": {},
   "source": [
    "# if condition\n",
    "   //code\n",
    "else:\n",
    "    "
   ]
  },
  {
   "cell_type": "code",
   "execution_count": 11,
   "id": "2f0adef9",
   "metadata": {},
   "outputs": [
    {
     "name": "stdout",
     "output_type": "stream",
     "text": [
      "positive\n"
     ]
    }
   ],
   "source": [
    "a=10\n",
    "if a>0:\n",
    "    print('positive')\n",
    "else:\n",
    "    print('negative')"
   ]
  },
  {
   "cell_type": "code",
   "execution_count": 15,
   "id": "83e6db36",
   "metadata": {},
   "outputs": [
    {
     "name": "stdout",
     "output_type": "stream",
     "text": [
      "not eligable\n"
     ]
    }
   ],
   "source": [
    "a=10\n",
    "if a>18:\n",
    "    print('eligable')\n",
    "else:\n",
    "    print('not eligable')"
   ]
  },
  {
   "cell_type": "code",
   "execution_count": 16,
   "id": "1823f171",
   "metadata": {},
   "outputs": [
    {
     "name": "stdout",
     "output_type": "stream",
     "text": [
      "eligable\n"
     ]
    }
   ],
   "source": [
    "a=110\n",
    "if a>40:\n",
    "    print('eligable')\n",
    "else:\n",
    "    print('not eligable')"
   ]
  },
  {
   "cell_type": "raw",
   "id": "dd75b892",
   "metadata": {},
   "source": [
    "if condition\n",
    "//code\n",
    "elif:\n",
    "    else:\n",
    "        "
   ]
  },
  {
   "cell_type": "code",
   "execution_count": 13,
   "id": "49a2468b",
   "metadata": {},
   "outputs": [
    {
     "name": "stdout",
     "output_type": "stream",
     "text": [
      "adult\n"
     ]
    }
   ],
   "source": [
    "a=19\n",
    "if a>0 and a<17:\n",
    "    print('child')\n",
    "elif a>18 and a<28:\n",
    "        print('adult')\n",
    "elif a>29 and a>30:\n",
    "    print('old')\n",
    "else:\n",
    "    print('40 above')"
   ]
  },
  {
   "cell_type": "code",
   "execution_count": 16,
   "id": "0cc4ad73",
   "metadata": {},
   "outputs": [
    {
     "name": "stdout",
     "output_type": "stream",
     "text": [
      "range 32 to 40\n"
     ]
    }
   ],
   "source": [
    "a=35\n",
    "if a>0 and a<30:\n",
    "    print('range 0 to 31')\n",
    "elif a>32 and a<40:\n",
    "        print('range 32 to 40')\n",
    "elif a>41 and a<50:\n",
    "        print('range 41 to 50')\n",
    "else:\n",
    "    print('range 50 to 60')"
   ]
  },
  {
   "cell_type": "code",
   "execution_count": null,
   "id": "32c538e4",
   "metadata": {},
   "outputs": [],
   "source": []
  }
 ],
 "metadata": {
  "kernelspec": {
   "display_name": "Python 3 (ipykernel)",
   "language": "python",
   "name": "python3"
  },
  "language_info": {
   "codemirror_mode": {
    "name": "ipython",
    "version": 3
   },
   "file_extension": ".py",
   "mimetype": "text/x-python",
   "name": "python",
   "nbconvert_exporter": "python",
   "pygments_lexer": "ipython3",
   "version": "3.11.5"
  }
 },
 "nbformat": 4,
 "nbformat_minor": 5
}
