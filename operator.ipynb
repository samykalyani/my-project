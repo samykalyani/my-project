{
 "cells": [
  {
   "cell_type": "markdown",
   "id": "ecc27c7e",
   "metadata": {},
   "source": [
    "# arithmetric operator"
   ]
  },
  {
   "cell_type": "code",
   "execution_count": 14,
   "id": "5e59c9eb",
   "metadata": {},
   "outputs": [
    {
     "data": {
      "text/plain": [
       "2"
      ]
     },
     "execution_count": 14,
     "metadata": {},
     "output_type": "execute_result"
    }
   ],
   "source": [
    "floor devision\n",
    "\n",
    "9//4"
   ]
  },
  {
   "cell_type": "code",
   "execution_count": 9,
   "id": "6a3da5f0",
   "metadata": {},
   "outputs": [
    {
     "data": {
      "text/plain": [
       "1"
      ]
     },
     "execution_count": 9,
     "metadata": {},
     "output_type": "execute_result"
    }
   ],
   "source": [
    "modulos\n",
    "\n",
    "10%3"
   ]
  },
  {
   "cell_type": "code",
   "execution_count": 11,
   "id": "3635ae08",
   "metadata": {},
   "outputs": [
    {
     "data": {
      "text/plain": [
       "10000"
      ]
     },
     "execution_count": 11,
     "metadata": {},
     "output_type": "execute_result"
    }
   ],
   "source": [
    "power\n",
    "\n",
    "10**4"
   ]
  },
  {
   "cell_type": "code",
   "execution_count": 12,
   "id": "219b1979",
   "metadata": {},
   "outputs": [
    {
     "data": {
      "text/plain": [
       "1000"
      ]
     },
     "execution_count": 12,
     "metadata": {},
     "output_type": "execute_result"
    }
   ],
   "source": [
    "10*10*10"
   ]
  },
  {
   "cell_type": "markdown",
   "id": "04cf1c5c",
   "metadata": {},
   "source": [
    "# assignment opertor"
   ]
  },
  {
   "cell_type": "code",
   "execution_count": 3,
   "id": "77fc3297",
   "metadata": {},
   "outputs": [
    {
     "name": "stdout",
     "output_type": "stream",
     "text": [
      "10\n"
     ]
    }
   ],
   "source": [
    "print(a)\n",
    "a=5\n",
    "a+=5"
   ]
  },
  {
   "cell_type": "code",
   "execution_count": 7,
   "id": "f45d7021",
   "metadata": {},
   "outputs": [
    {
     "name": "stdout",
     "output_type": "stream",
     "text": [
      "5\n"
     ]
    }
   ],
   "source": [
    "print(a)\n",
    "a=5\n",
    "a-=5"
   ]
  },
  {
   "cell_type": "code",
   "execution_count": 9,
   "id": "d9609a98",
   "metadata": {},
   "outputs": [
    {
     "name": "stdout",
     "output_type": "stream",
     "text": [
      "50\n"
     ]
    }
   ],
   "source": [
    "a=50\n",
    "print(a)"
   ]
  },
  {
   "cell_type": "code",
   "execution_count": 10,
   "id": "94a74b8c",
   "metadata": {},
   "outputs": [
    {
     "name": "stdout",
     "output_type": "stream",
     "text": [
      "15\n"
     ]
    }
   ],
   "source": [
    "a=10\n",
    "a+=5 #(a=a+5)\n",
    "print(a)"
   ]
  },
  {
   "cell_type": "code",
   "execution_count": 12,
   "id": "007604a6",
   "metadata": {},
   "outputs": [
    {
     "name": "stdout",
     "output_type": "stream",
     "text": [
      "15\n"
     ]
    }
   ],
   "source": [
    "a=20\n",
    "a-=5\n",
    "print(a)"
   ]
  },
  {
   "cell_type": "code",
   "execution_count": 16,
   "id": "e6d2bc69",
   "metadata": {},
   "outputs": [
    {
     "name": "stdout",
     "output_type": "stream",
     "text": [
      "40\n"
     ]
    }
   ],
   "source": [
    "c=20\n",
    "c*=2\n",
    "print(c)"
   ]
  },
  {
   "cell_type": "code",
   "execution_count": 18,
   "id": "38ee26f8",
   "metadata": {},
   "outputs": [
    {
     "name": "stdout",
     "output_type": "stream",
     "text": [
      "5\n"
     ]
    }
   ],
   "source": [
    "c=10\n",
    "c//=2\n",
    "print(c)"
   ]
  },
  {
   "cell_type": "code",
   "execution_count": 19,
   "id": "6a6e80f3",
   "metadata": {},
   "outputs": [
    {
     "name": "stdout",
     "output_type": "stream",
     "text": [
      "1\n"
     ]
    }
   ],
   "source": [
    "a=10\n",
    "a%=3\n",
    "print(a)"
   ]
  },
  {
   "cell_type": "code",
   "execution_count": 20,
   "id": "5c2cfaae",
   "metadata": {},
   "outputs": [
    {
     "name": "stdout",
     "output_type": "stream",
     "text": [
      "1000\n"
     ]
    }
   ],
   "source": [
    "x=10\n",
    "x**=3\n",
    "print(x)"
   ]
  },
  {
   "cell_type": "markdown",
   "id": "e76f67da",
   "metadata": {},
   "source": [
    "# comparison operator"
   ]
  },
  {
   "cell_type": "code",
   "execution_count": 21,
   "id": "e11c7e90",
   "metadata": {},
   "outputs": [
    {
     "name": "stdout",
     "output_type": "stream",
     "text": [
      "False\n",
      "True\n"
     ]
    }
   ],
   "source": [
    "a=5\n",
    "b=6\n",
    "print(a==b)\n",
    "c=a\n",
    "print(c==a)"
   ]
  },
  {
   "cell_type": "code",
   "execution_count": 22,
   "id": "03d5253d",
   "metadata": {},
   "outputs": [
    {
     "name": "stdout",
     "output_type": "stream",
     "text": [
      "True\n"
     ]
    }
   ],
   "source": [
    "a=5\n",
    "b=3\n",
    "print(a!=b)"
   ]
  },
  {
   "cell_type": "code",
   "execution_count": 23,
   "id": "571b1e59",
   "metadata": {},
   "outputs": [
    {
     "name": "stdout",
     "output_type": "stream",
     "text": [
      "True\n"
     ]
    }
   ],
   "source": [
    "a=18\n",
    "c=10\n",
    "print(a>c)"
   ]
  },
  {
   "cell_type": "code",
   "execution_count": 25,
   "id": "43264997",
   "metadata": {},
   "outputs": [
    {
     "name": "stdout",
     "output_type": "stream",
     "text": [
      "True\n"
     ]
    }
   ],
   "source": [
    "b=4\n",
    "c=20\n",
    "print(b<c)"
   ]
  },
  {
   "cell_type": "markdown",
   "id": "44f9d540",
   "metadata": {},
   "source": [
    "# logical operator"
   ]
  },
  {
   "cell_type": "code",
   "execution_count": 6,
   "id": "58b3c2fd",
   "metadata": {},
   "outputs": [
    {
     "name": "stdout",
     "output_type": "stream",
     "text": [
      "False\n",
      "False\n"
     ]
    }
   ],
   "source": [
    "#and\n",
    "print(10>40)and(50<10)\n",
    "print(40<10)and(10<20)"
   ]
  },
  {
   "cell_type": "code",
   "execution_count": 8,
   "id": "627f4977",
   "metadata": {},
   "outputs": [
    {
     "name": "stdout",
     "output_type": "stream",
     "text": [
      "False\n",
      "True\n",
      "True\n",
      "True\n"
     ]
    }
   ],
   "source": [
    "print(10>70) and (40<=40)\n",
    "print(70>=70) and(40<=40)\n",
    "print(72>1) and(75>5)\n",
    "print(10<40) and(50>5)"
   ]
  },
  {
   "cell_type": "code",
   "execution_count": 3,
   "id": "484eb69c",
   "metadata": {
    "scrolled": true
   },
   "outputs": [
    {
     "name": "stdout",
     "output_type": "stream",
     "text": [
      "False\n",
      "True\n"
     ]
    }
   ],
   "source": [
    "#not\n",
    "print(not(True))\n",
    "print(not(False))"
   ]
  },
  {
   "cell_type": "code",
   "execution_count": 4,
   "id": "352e6904",
   "metadata": {},
   "outputs": [
    {
     "name": "stdout",
     "output_type": "stream",
     "text": [
      "False\n"
     ]
    }
   ],
   "source": [
    "x=True\n",
    "y=False\n",
    "result=x and y\n",
    "print(result)"
   ]
  },
  {
   "cell_type": "code",
   "execution_count": 5,
   "id": "da0c8f44",
   "metadata": {},
   "outputs": [
    {
     "name": "stdout",
     "output_type": "stream",
     "text": [
      "False\n"
     ]
    }
   ],
   "source": [
    "print(not(10>=10 or 30>1 and 10!=11 or 40>=40 or not(false)))"
   ]
  },
  {
   "cell_type": "code",
   "execution_count": 7,
   "id": "431d84fd",
   "metadata": {
    "scrolled": false
   },
   "outputs": [
    {
     "name": "stdout",
     "output_type": "stream",
     "text": [
      "False\n"
     ]
    },
    {
     "data": {
      "text/plain": [
       "False"
      ]
     },
     "execution_count": 7,
     "metadata": {},
     "output_type": "execute_result"
    }
   ],
   "source": [
    "print(not(10==10)) or 71>71 and not(10!=11) or 10>=10 and not(10==10)"
   ]
  },
  {
   "cell_type": "markdown",
   "id": "876ee48a",
   "metadata": {},
   "source": [
    "# Identity operator"
   ]
  },
  {
   "cell_type": "code",
   "execution_count": 11,
   "id": "80b50914",
   "metadata": {},
   "outputs": [
    {
     "name": "stdout",
     "output_type": "stream",
     "text": [
      "False\n",
      "True\n"
     ]
    }
   ],
   "source": [
    "#Is :same object memory address\n",
    "#Is not:not same memory address\n",
    "a=5\n",
    "b=10\n",
    "c=5\n",
    "print(a is b)\n",
    "print(a is c)\n"
   ]
  },
  {
   "cell_type": "code",
   "execution_count": 12,
   "id": "0a340f74",
   "metadata": {},
   "outputs": [
    {
     "name": "stdout",
     "output_type": "stream",
     "text": [
      "False\n",
      "2534611162688\n",
      "2534628296000\n"
     ]
    }
   ],
   "source": [
    "d=[1,2,3]\n",
    "e=[1,2,3]\n",
    "print(d is e)\n",
    "print(id(d))\n",
    "print(id(e))"
   ]
  },
  {
   "cell_type": "code",
   "execution_count": 14,
   "id": "edcdb3ff",
   "metadata": {},
   "outputs": [
    {
     "name": "stdout",
     "output_type": "stream",
     "text": [
      "True\n",
      "False\n"
     ]
    }
   ],
   "source": [
    "a=10\n",
    "c=10\n",
    "d=11\n",
    "print(a is not d)\n",
    "print(a is not c)"
   ]
  },
  {
   "cell_type": "markdown",
   "id": "c02237f6",
   "metadata": {},
   "source": [
    "# membership opertor"
   ]
  },
  {
   "cell_type": "code",
   "execution_count": 16,
   "id": "28f3ee67",
   "metadata": {},
   "outputs": [
    {
     "name": "stdout",
     "output_type": "stream",
     "text": [
      "True\n",
      "False\n",
      "False\n"
     ]
    }
   ],
   "source": [
    "#in:true if variable/value is found in sequence\n",
    "#not in:true if variable/value is not found in sequence\n",
    "a=10\n",
    "b=[1,2,3,4,10]\n",
    "print(a in b)\n",
    "print(11 in b)\n",
    "print(101 in b)"
   ]
  },
  {
   "cell_type": "code",
   "execution_count": 20,
   "id": "82c91ddc",
   "metadata": {},
   "outputs": [
    {
     "name": "stdout",
     "output_type": "stream",
     "text": [
      "True\n",
      "False\n",
      "False\n"
     ]
    }
   ],
   "source": [
    "b=5\n",
    "c=[1,2,3,4]\n",
    "print(b not in c)\n",
    "print(3 not in c)\n",
    "print(1 not in c)"
   ]
  },
  {
   "cell_type": "markdown",
   "id": "6f023a3e",
   "metadata": {},
   "source": [
    "# Bitwise operator"
   ]
  },
  {
   "cell_type": "code",
   "execution_count": 1,
   "id": "e550ab70",
   "metadata": {},
   "outputs": [
    {
     "name": "stdout",
     "output_type": "stream",
     "text": [
      "0\n"
     ]
    }
   ],
   "source": [
    "print(40&7)"
   ]
  },
  {
   "cell_type": "code",
   "execution_count": 1,
   "id": "75210661",
   "metadata": {},
   "outputs": [
    {
     "name": "stdout",
     "output_type": "stream",
     "text": [
      "0b101000\n",
      "0b111\n"
     ]
    }
   ],
   "source": [
    "print(bin(40))\n",
    "print(bin(7))"
   ]
  },
  {
   "cell_type": "code",
   "execution_count": 2,
   "id": "ffaa7f5f",
   "metadata": {},
   "outputs": [
    {
     "name": "stdout",
     "output_type": "stream",
     "text": [
      "0\n"
     ]
    }
   ],
   "source": [
    "print(int('000000',2))"
   ]
  },
  {
   "cell_type": "code",
   "execution_count": 4,
   "id": "2e5f805b",
   "metadata": {},
   "outputs": [
    {
     "name": "stdout",
     "output_type": "stream",
     "text": [
      "0b100100\n",
      "0b1001\n"
     ]
    }
   ],
   "source": [
    "print(bin(36))\n",
    "print(bin(9))"
   ]
  },
  {
   "cell_type": "code",
   "execution_count": 9,
   "id": "ea050e12",
   "metadata": {},
   "outputs": [
    {
     "name": "stdout",
     "output_type": "stream",
     "text": [
      "0\n"
     ]
    }
   ],
   "source": [
    "print(int('000000',2))"
   ]
  },
  {
   "cell_type": "code",
   "execution_count": 10,
   "id": "1aa25fe9",
   "metadata": {},
   "outputs": [
    {
     "name": "stdout",
     "output_type": "stream",
     "text": [
      "99\n"
     ]
    }
   ],
   "source": [
    "print(99&999)"
   ]
  },
  {
   "cell_type": "code",
   "execution_count": 11,
   "id": "ef54f589",
   "metadata": {},
   "outputs": [
    {
     "name": "stdout",
     "output_type": "stream",
     "text": [
      "0b1100011\n"
     ]
    }
   ],
   "source": [
    "print(bin(99))"
   ]
  },
  {
   "cell_type": "code",
   "execution_count": 12,
   "id": "aecfe7ce",
   "metadata": {},
   "outputs": [
    {
     "name": "stdout",
     "output_type": "stream",
     "text": [
      "0b1111100111\n"
     ]
    }
   ],
   "source": [
    "print(bin(999))"
   ]
  },
  {
   "cell_type": "code",
   "execution_count": 15,
   "id": "f5afa2a4",
   "metadata": {},
   "outputs": [
    {
     "name": "stdout",
     "output_type": "stream",
     "text": [
      "99\n"
     ]
    }
   ],
   "source": [
    "print(int('0001100011',2))"
   ]
  },
  {
   "cell_type": "code",
   "execution_count": 16,
   "id": "40c413a5",
   "metadata": {},
   "outputs": [
    {
     "name": "stdout",
     "output_type": "stream",
     "text": [
      "999\n"
     ]
    }
   ],
   "source": [
    "print(99|999)"
   ]
  },
  {
   "cell_type": "code",
   "execution_count": 17,
   "id": "26f0441d",
   "metadata": {},
   "outputs": [
    {
     "name": "stdout",
     "output_type": "stream",
     "text": [
      "0b1100011\n",
      "0b1111100111\n"
     ]
    }
   ],
   "source": [
    "print(bin(99))\n",
    "print(bin(999))"
   ]
  },
  {
   "cell_type": "code",
   "execution_count": 18,
   "id": "a85ac3af",
   "metadata": {},
   "outputs": [
    {
     "name": "stdout",
     "output_type": "stream",
     "text": [
      "999\n"
     ]
    }
   ],
   "source": [
    "print(int('1111100111',2))"
   ]
  },
  {
   "cell_type": "code",
   "execution_count": 19,
   "id": "2d0d2d3e",
   "metadata": {},
   "outputs": [
    {
     "name": "stdout",
     "output_type": "stream",
     "text": [
      "719\n"
     ]
    }
   ],
   "source": [
    "print(642|77)"
   ]
  },
  {
   "cell_type": "code",
   "execution_count": 20,
   "id": "f79d2400",
   "metadata": {},
   "outputs": [
    {
     "name": "stdout",
     "output_type": "stream",
     "text": [
      "0b1010000010\n",
      "0b1001101\n"
     ]
    }
   ],
   "source": [
    "print(bin(642))\n",
    "print(bin(77))"
   ]
  },
  {
   "cell_type": "code",
   "execution_count": 22,
   "id": "f837deaa",
   "metadata": {},
   "outputs": [
    {
     "name": "stdout",
     "output_type": "stream",
     "text": [
      "719\n"
     ]
    }
   ],
   "source": [
    "print(int('1011001111',2))"
   ]
  },
  {
   "cell_type": "code",
   "execution_count": 23,
   "id": "d39998bf",
   "metadata": {},
   "outputs": [
    {
     "name": "stdout",
     "output_type": "stream",
     "text": [
      "-42\n"
     ]
    }
   ],
   "source": [
    "print(~(41))"
   ]
  },
  {
   "cell_type": "code",
   "execution_count": 24,
   "id": "20b0f163",
   "metadata": {},
   "outputs": [
    {
     "name": "stdout",
     "output_type": "stream",
     "text": [
      "-36\n"
     ]
    }
   ],
   "source": [
    "print(~(35))"
   ]
  },
  {
   "cell_type": "code",
   "execution_count": 25,
   "id": "9a806dd3",
   "metadata": {},
   "outputs": [
    {
     "name": "stdout",
     "output_type": "stream",
     "text": [
      "-101\n"
     ]
    }
   ],
   "source": [
    "print(~(100))"
   ]
  },
  {
   "cell_type": "code",
   "execution_count": 28,
   "id": "b97f50b8",
   "metadata": {},
   "outputs": [
    {
     "name": "stdout",
     "output_type": "stream",
     "text": [
      "97\n"
     ]
    }
   ],
   "source": [
    "print(47^78)"
   ]
  },
  {
   "cell_type": "code",
   "execution_count": 29,
   "id": "ac5b4435",
   "metadata": {},
   "outputs": [
    {
     "name": "stdout",
     "output_type": "stream",
     "text": [
      "0b101111\n",
      "0b1001110\n"
     ]
    }
   ],
   "source": [
    "print(bin(47))\n",
    "print(bin(78))"
   ]
  },
  {
   "cell_type": "code",
   "execution_count": 30,
   "id": "ac035e66",
   "metadata": {},
   "outputs": [
    {
     "name": "stdout",
     "output_type": "stream",
     "text": [
      "97\n"
     ]
    }
   ],
   "source": [
    "print(int('1100001',2))"
   ]
  },
  {
   "cell_type": "code",
   "execution_count": 31,
   "id": "a33f02a0",
   "metadata": {},
   "outputs": [
    {
     "name": "stdout",
     "output_type": "stream",
     "text": [
      "6\n"
     ]
    }
   ],
   "source": [
    "print(24>>2)"
   ]
  },
  {
   "cell_type": "code",
   "execution_count": 32,
   "id": "8ef33213",
   "metadata": {},
   "outputs": [
    {
     "name": "stdout",
     "output_type": "stream",
     "text": [
      "0b11000\n"
     ]
    }
   ],
   "source": [
    "print(bin(24))"
   ]
  },
  {
   "cell_type": "code",
   "execution_count": 33,
   "id": "3610b500",
   "metadata": {},
   "outputs": [
    {
     "name": "stdout",
     "output_type": "stream",
     "text": [
      "27\n"
     ]
    }
   ],
   "source": [
    "print(442>>4)"
   ]
  },
  {
   "cell_type": "code",
   "execution_count": 34,
   "id": "f189f9ac",
   "metadata": {},
   "outputs": [
    {
     "name": "stdout",
     "output_type": "stream",
     "text": [
      "0b110111010\n"
     ]
    }
   ],
   "source": [
    "print(bin(442))"
   ]
  },
  {
   "cell_type": "code",
   "execution_count": 35,
   "id": "a8e3bdf8",
   "metadata": {},
   "outputs": [
    {
     "name": "stdout",
     "output_type": "stream",
     "text": [
      "27\n"
     ]
    }
   ],
   "source": [
    "print(int('11011',2))"
   ]
  },
  {
   "cell_type": "code",
   "execution_count": 36,
   "id": "0ce0198e",
   "metadata": {},
   "outputs": [
    {
     "name": "stdout",
     "output_type": "stream",
     "text": [
      "96\n"
     ]
    }
   ],
   "source": [
    "print(24<<2)"
   ]
  },
  {
   "cell_type": "code",
   "execution_count": 37,
   "id": "0875639e",
   "metadata": {},
   "outputs": [
    {
     "name": "stdout",
     "output_type": "stream",
     "text": [
      "0b11000\n"
     ]
    }
   ],
   "source": [
    "print(bin(24))"
   ]
  },
  {
   "cell_type": "code",
   "execution_count": null,
   "id": "dd59b221",
   "metadata": {},
   "outputs": [],
   "source": []
  }
 ],
 "metadata": {
  "kernelspec": {
   "display_name": "Python 3 (ipykernel)",
   "language": "python",
   "name": "python3"
  },
  "language_info": {
   "codemirror_mode": {
    "name": "ipython",
    "version": 3
   },
   "file_extension": ".py",
   "mimetype": "text/x-python",
   "name": "python",
   "nbconvert_exporter": "python",
   "pygments_lexer": "ipython3",
   "version": "3.11.5"
  }
 },
 "nbformat": 4,
 "nbformat_minor": 5
}
