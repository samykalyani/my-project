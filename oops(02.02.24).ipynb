{
 "cells": [
  {
   "cell_type": "markdown",
   "id": "e047d764",
   "metadata": {},
   "source": [
    "# oops(object oriented programming system)\n",
    "state-variables/attributes behaviour-method/function"
   ]
  },
  {
   "cell_type": "code",
   "execution_count": 1,
   "id": "31694481",
   "metadata": {},
   "outputs": [
    {
     "name": "stdout",
     "output_type": "stream",
     "text": [
      "<class '__main__.myclass'>\n"
     ]
    }
   ],
   "source": [
    "#to create class\n",
    "class myclass:\n",
    "    x=5\n",
    "print(myclass)    \n",
    "    "
   ]
  },
  {
   "cell_type": "code",
   "execution_count": 2,
   "id": "07e9da7f",
   "metadata": {},
   "outputs": [
    {
     "name": "stdout",
     "output_type": "stream",
     "text": [
      "20\n"
     ]
    }
   ],
   "source": [
    "#creation of object\n",
    "class myclass:\n",
    "    x=20\n",
    "obj=myclass()\n",
    "print(myclass.x)#to access class variable"
   ]
  },
  {
   "cell_type": "code",
   "execution_count": 4,
   "id": "cd8d2bb4",
   "metadata": {},
   "outputs": [
    {
     "name": "stdout",
     "output_type": "stream",
     "text": [
      "employee_id :1001\n",
      "employee_id :1002\n"
     ]
    }
   ],
   "source": [
    "class employee:\n",
    "    employee_id=0\n",
    "employee1=employee()\n",
    "employee2=employee()\n",
    "employee1.employee_id=1001\n",
    "print(f'employee_id :{employee1.employee_id}')\n",
    "employee2.employee_id=1002\n",
    "print(f'employee_id :{employee2.employee_id}')"
   ]
  },
  {
   "cell_type": "code",
   "execution_count": 11,
   "id": "a56362a9",
   "metadata": {},
   "outputs": [
    {
     "name": "stdout",
     "output_type": "stream",
     "text": [
      "employeeID :0\n",
      "employeeID :1001\n",
      "employeeID :1002\n"
     ]
    }
   ],
   "source": [
    "class employee:\n",
    "    employeeID=0\n",
    "employee1=employee()\n",
    "employee2=employee()\n",
    "print(f'employeeID :{employee.employeeID}')\n",
    "employee1.employeeID=1001\n",
    "print(f'employeeID :{employee1.employeeID}')\n",
    "employee2.employeeID=1002\n",
    "print(f'employeeID :{employee2.employeeID}')\n",
    "#print('employeeID:',employee2.employeeID)"
   ]
  },
  {
   "cell_type": "code",
   "execution_count": 12,
   "id": "d40a3063",
   "metadata": {},
   "outputs": [
    {
     "name": "stdout",
     "output_type": "stream",
     "text": [
      "Kalyani\n",
      "B.sc.cs\n",
      "Tenkasi\n",
      "Tamilnadu\n"
     ]
    }
   ],
   "source": [
    "#accessing attributes\n",
    "class data:\n",
    "    Name='Kalyani'\n",
    "    Degree='B.sc.cs'\n",
    "    Location='Tenkasi'\n",
    "    State='Tamilnadu'\n",
    "personaldata=data()\n",
    "print(personaldata.Name)\n",
    "print(personaldata.Degree)\n",
    "print(personaldata.Location)\n",
    "print(personaldata.State)"
   ]
  },
  {
   "cell_type": "code",
   "execution_count": 14,
   "id": "1a4d45b3",
   "metadata": {},
   "outputs": [
    {
     "name": "stdout",
     "output_type": "stream",
     "text": [
      "phonemodel vivo y15s\n"
     ]
    }
   ],
   "source": [
    "#method\n",
    "class phone:\n",
    "    name='eswaran'\n",
    "    model='vivo y15s'\n",
    "    def display(x):#x-instance(function object)\n",
    "        print('phonemodel',x.model)\n",
    "cell=phone()#cell-class object\n",
    "cell.display()\n"
   ]
  },
  {
   "cell_type": "code",
   "execution_count": null,
   "id": "d56197a4",
   "metadata": {},
   "outputs": [],
   "source": []
  }
 ],
 "metadata": {
  "kernelspec": {
   "display_name": "Python 3 (ipykernel)",
   "language": "python",
   "name": "python3"
  },
  "language_info": {
   "codemirror_mode": {
    "name": "ipython",
    "version": 3
   },
   "file_extension": ".py",
   "mimetype": "text/x-python",
   "name": "python",
   "nbconvert_exporter": "python",
   "pygments_lexer": "ipython3",
   "version": "3.11.5"
  }
 },
 "nbformat": 4,
 "nbformat_minor": 5
}
