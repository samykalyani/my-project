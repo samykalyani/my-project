{
 "cells": [
  {
   "cell_type": "code",
   "execution_count": 4,
   "id": "26644d3d",
   "metadata": {},
   "outputs": [
    {
     "name": "stdout",
     "output_type": "stream",
     "text": [
      "* * * * * \n",
      "* * * * * \n",
      "* * * * * \n",
      "* * * * * \n",
      "* * * * * \n"
     ]
    }
   ],
   "source": [
    "for i in range(5):\n",
    "    print('* '*5)\n"
   ]
  },
  {
   "cell_type": "markdown",
   "id": "5a3037e2",
   "metadata": {},
   "source": [
    "# Increase triangle"
   ]
  },
  {
   "cell_type": "code",
   "execution_count": 36,
   "id": "2ff14922",
   "metadata": {},
   "outputs": [
    {
     "name": "stdout",
     "output_type": "stream",
     "text": [
      "0\n",
      "1\n",
      "2\n",
      "3\n",
      "4\n"
     ]
    }
   ],
   "source": [
    "for i in range(5):\n",
    "    print(i)\n"
   ]
  },
  {
   "cell_type": "code",
   "execution_count": 33,
   "id": "26f919b7",
   "metadata": {},
   "outputs": [
    {
     "name": "stdout",
     "output_type": "stream",
     "text": [
      "* \n",
      "* * \n",
      "* * * \n",
      "* * * * \n",
      "* * * * * \n"
     ]
    }
   ],
   "source": [
    "for i in range(5):\n",
    "    for ii in range(i+1):\n",
    "        print('*',end=\" \")\n",
    "    print( )\n",
    "    "
   ]
  },
  {
   "cell_type": "markdown",
   "id": "58b5c7f8",
   "metadata": {},
   "source": [
    "# Decresing triangle"
   ]
  },
  {
   "cell_type": "code",
   "execution_count": 37,
   "id": "561ed80d",
   "metadata": {},
   "outputs": [
    {
     "name": "stdout",
     "output_type": "stream",
     "text": [
      "* * * * * \n",
      "* * * * \n",
      "* * * \n",
      "* * \n",
      "* \n"
     ]
    }
   ],
   "source": [
    "for i in range(5):\n",
    "    for ii in range(i,5):\n",
    "        print('*',end=\" \")\n",
    "    print()    "
   ]
  },
  {
   "cell_type": "code",
   "execution_count": 31,
   "id": "b61d06a8",
   "metadata": {},
   "outputs": [
    {
     "name": "stdout",
     "output_type": "stream",
     "text": [
      "* \n",
      "* * \n",
      "* * * \n",
      "* * * * \n",
      "* * * * * \n",
      "* * * * * * \n",
      "* * * * * \n",
      "* * * * \n",
      "* * * \n",
      "* * \n",
      "* \n"
     ]
    }
   ],
   "source": [
    "for i in range(5):\n",
    "    for ii in range(i+1):\n",
    "        print('*',end=' ')\n",
    "    print() \n",
    "print(\"* \"*6)\n",
    "for i in range(5):\n",
    "    for ii in range(i,5):\n",
    "        print('*',end=\" \")\n",
    "    print()\n"
   ]
  },
  {
   "cell_type": "markdown",
   "id": "8613e008",
   "metadata": {},
   "source": [
    "# Right sides triangle"
   ]
  },
  {
   "cell_type": "code",
   "execution_count": 54,
   "id": "78511b24",
   "metadata": {},
   "outputs": [
    {
     "name": "stdout",
     "output_type": "stream",
     "text": [
      "     * \n",
      "    * * \n",
      "   * * * \n",
      "  * * * * \n",
      " * * * * * \n"
     ]
    }
   ],
   "source": [
    "for i in range(5):\n",
    "    for ii in range(i,5):\n",
    "        print(' ',end='')\n",
    "    for ii in range(i+1):\n",
    "        print('* ',end='')\n",
    "    print()"
   ]
  },
  {
   "cell_type": "code",
   "execution_count": 55,
   "id": "ce7dfbc1",
   "metadata": {},
   "outputs": [
    {
     "name": "stdout",
     "output_type": "stream",
     "text": [
      " * * * * * \n",
      "  * * * * \n",
      "   * * * \n",
      "    * * \n",
      "     * \n"
     ]
    }
   ],
   "source": [
    "for i in range(5):\n",
    "    for ii in range(i+1):\n",
    "        print('',end=' ')\n",
    "    for ii in range(i,5):\n",
    "        print('*',end=\" \")\n",
    "    print()   "
   ]
  },
  {
   "cell_type": "code",
   "execution_count": 59,
   "id": "edd3acdf",
   "metadata": {},
   "outputs": [
    {
     "name": "stdout",
     "output_type": "stream",
     "text": [
      "          * \n",
      "        * * * \n",
      "      * * * * * \n",
      "    * * * * * * * \n",
      "  * * * * * * * * * \n"
     ]
    }
   ],
   "source": [
    "n=5\n",
    "for i in range(5):\n",
    "    for ii in range(i,5):\n",
    "        print(' ',end=' ')\n",
    "    for ii in range(i):\n",
    "        print('*',end=' ')\n",
    "    for ii in range(i+1):\n",
    "        print('*',end=' ')\n",
    "    print()    "
   ]
  },
  {
   "cell_type": "code",
   "execution_count": null,
   "id": "6365c014",
   "metadata": {},
   "outputs": [],
   "source": []
  }
 ],
 "metadata": {
  "kernelspec": {
   "display_name": "Python 3 (ipykernel)",
   "language": "python",
   "name": "python3"
  },
  "language_info": {
   "codemirror_mode": {
    "name": "ipython",
    "version": 3
   },
   "file_extension": ".py",
   "mimetype": "text/x-python",
   "name": "python",
   "nbconvert_exporter": "python",
   "pygments_lexer": "ipython3",
   "version": "3.11.5"
  }
 },
 "nbformat": 4,
 "nbformat_minor": 5
}
