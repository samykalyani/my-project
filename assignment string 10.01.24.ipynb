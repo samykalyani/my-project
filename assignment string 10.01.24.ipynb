{
 "cells": [
  {
   "cell_type": "markdown",
   "id": "1d705589",
   "metadata": {},
   "source": [
    "# String Manipulation"
   ]
  },
  {
   "cell_type": "code",
   "execution_count": null,
   "id": "5f3d995e",
   "metadata": {},
   "outputs": [],
   "source": [
    "write a python program that takes a user input string and performs the following operations:\n",
    "    \n",
    "    *Print the lenght of the string.\n",
    "    *Print the string in uppercase.\n",
    "    *Print the string in lowercase.\n",
    "    *Print the first and last character of the string ."
   ]
  },
  {
   "cell_type": "code",
   "execution_count": 2,
   "id": "053f3afb",
   "metadata": {},
   "outputs": [
    {
     "name": "stdout",
     "output_type": "stream",
     "text": [
      "enter a stringpython\n",
      "len of the string\n"
     ]
    },
    {
     "data": {
      "text/plain": [
       "6"
      ]
     },
     "execution_count": 2,
     "metadata": {},
     "output_type": "execute_result"
    }
   ],
   "source": [
    "userinput=input(\"enter a string\")\n",
    "print(\"len of the string\")\n",
    "len(userinput)"
   ]
  },
  {
   "cell_type": "code",
   "execution_count": 1,
   "id": "4a61c564",
   "metadata": {},
   "outputs": [
    {
     "name": "stdout",
     "output_type": "stream",
     "text": [
      "enter a stringpython\n",
      "uppercase\n"
     ]
    },
    {
     "data": {
      "text/plain": [
       "'PYTHON'"
      ]
     },
     "execution_count": 1,
     "metadata": {},
     "output_type": "execute_result"
    }
   ],
   "source": [
    "userinput=input(\"enter a string\")\n",
    "print(\"uppercase\")\n",
    "userinput.upper()"
   ]
  },
  {
   "cell_type": "code",
   "execution_count": 3,
   "id": "553fbe5d",
   "metadata": {},
   "outputs": [
    {
     "name": "stdout",
     "output_type": "stream",
     "text": [
      "enter a stringPYTHON\n",
      "lowercase\n"
     ]
    },
    {
     "data": {
      "text/plain": [
       "'python'"
      ]
     },
     "execution_count": 3,
     "metadata": {},
     "output_type": "execute_result"
    }
   ],
   "source": [
    "userinput=input(\"enter a string\")\n",
    "print(\"lowercase\")\n",
    "userinput.lower()"
   ]
  },
  {
   "cell_type": "code",
   "execution_count": 4,
   "id": "d98048fd",
   "metadata": {},
   "outputs": [
    {
     "name": "stdout",
     "output_type": "stream",
     "text": [
      "first character p\n",
      "last character n\n"
     ]
    }
   ],
   "source": [
    "userinput=('python')\n",
    "print('first character',userinput[0])\n",
    "print('last character',userinput[-1])"
   ]
  },
  {
   "cell_type": "markdown",
   "id": "d0b45987",
   "metadata": {},
   "source": [
    "# String Slicing"
   ]
  },
  {
   "cell_type": "code",
   "execution_count": 4,
   "id": "6d58939f",
   "metadata": {},
   "outputs": [
    {
     "name": "stdout",
     "output_type": "stream",
     "text": [
      "enter a sentence:hello,world\n",
      "first three characters: hel\n",
      "last three characters: rld\n",
      "every second characters: hlowrd\n"
     ]
    }
   ],
   "source": [
    "sentence=input('enter a sentence:')\n",
    "\n",
    "print(\"first three characters:\", sentence[:3])\n",
    "\n",
    "print(\"last three characters:\" ,sentence[-3:])\n",
    "\n",
    "print(\"every second characters:\",sentence[::2])"
   ]
  },
  {
   "cell_type": "code",
   "execution_count": null,
   "id": "763d96e0",
   "metadata": {},
   "outputs": [],
   "source": []
  },
  {
   "cell_type": "code",
   "execution_count": null,
   "id": "fcc8cf7a",
   "metadata": {},
   "outputs": [],
   "source": []
  },
  {
   "cell_type": "code",
   "execution_count": null,
   "id": "3a20991d",
   "metadata": {},
   "outputs": [],
   "source": []
  },
  {
   "cell_type": "code",
   "execution_count": null,
   "id": "ae75b9bf",
   "metadata": {},
   "outputs": [],
   "source": []
  },
  {
   "cell_type": "code",
   "execution_count": null,
   "id": "14742739",
   "metadata": {},
   "outputs": [],
   "source": []
  }
 ],
 "metadata": {
  "kernelspec": {
   "display_name": "Python 3 (ipykernel)",
   "language": "python",
   "name": "python3"
  },
  "language_info": {
   "codemirror_mode": {
    "name": "ipython",
    "version": 3
   },
   "file_extension": ".py",
   "mimetype": "text/x-python",
   "name": "python",
   "nbconvert_exporter": "python",
   "pygments_lexer": "ipython3",
   "version": "3.11.5"
  }
 },
 "nbformat": 4,
 "nbformat_minor": 5
}
