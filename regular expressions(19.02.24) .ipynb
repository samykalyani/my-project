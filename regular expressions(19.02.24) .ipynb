{
 "cells": [
  {
   "cell_type": "code",
   "execution_count": 1,
   "id": "acd897a1",
   "metadata": {},
   "outputs": [
    {
     "name": "stdout",
     "output_type": "stream",
     "text": [
      "<re.Match object; span=(4, 7), match='mat'>\n"
     ]
    }
   ],
   "source": [
    "#import the re module\n",
    "import re\n",
    "pro=re.compile(r'm\\w\\w')\n",
    "s='cat mat bat rat'\n",
    "res=pro.search(s)\n",
    "print(res)"
   ]
  },
  {
   "cell_type": "code",
   "execution_count": 2,
   "id": "20c14d00",
   "metadata": {},
   "outputs": [
    {
     "name": "stdout",
     "output_type": "stream",
     "text": [
      "<re.Match object; span=(0, 3), match='man'>\n",
      "<re.Match object; span=(0, 3), match='man'>\n"
     ]
    }
   ],
   "source": [
    "s='man sun mop run'\n",
    "result=re.search(r'm\\w\\w',s)\n",
    "if result is not None:\n",
    "    print(result)\n",
    "if result:\n",
    "    print(result)"
   ]
  },
  {
   "cell_type": "code",
   "execution_count": 3,
   "id": "b50a2802",
   "metadata": {},
   "outputs": [
    {
     "name": "stdout",
     "output_type": "stream",
     "text": [
      "2day\n",
      "2morrow\n"
     ]
    }
   ],
   "source": [
    "string='an apple a day keeps the doctor away 2day or 2morrow'\n",
    "res=re.findall(r'\\d[\\w]*',string)\n",
    "for word in res:\n",
    "    print(word)\n",
    "    "
   ]
  },
  {
   "cell_type": "code",
   "execution_count": 4,
   "id": "d1a2abe9",
   "metadata": {},
   "outputs": [
    {
     "name": "stdout",
     "output_type": "stream",
     "text": [
      "['three', 'seven']\n"
     ]
    }
   ],
   "source": [
    "string='one two three four five six seven 8 9 10'\n",
    "res=re.findall(r'\\b\\w{5}\\b',string)\n",
    "print(res)\n"
   ]
  },
  {
   "cell_type": "code",
   "execution_count": 5,
   "id": "f4ea74c2",
   "metadata": {},
   "outputs": [
    {
     "name": "stdout",
     "output_type": "stream",
     "text": [
      "['one', 'two', 'three', 'four', 'five', 'six', 'seven']\n"
     ]
    }
   ],
   "source": [
    "string='one two three four five six seven 8 9 10'\n",
    "res=re.findall(r'\\b\\w{3,5}\\b',string)\n",
    "print(res)"
   ]
  },
  {
   "cell_type": "code",
   "execution_count": 6,
   "id": "e1575ad4",
   "metadata": {},
   "outputs": [
    {
     "name": "stdout",
     "output_type": "stream",
     "text": [
      "['8', '9']\n"
     ]
    }
   ],
   "source": [
    "string='one two three four five six seven 8 9 10'\n",
    "res=re.findall(r'\\b\\d\\b',string)\n",
    "print(res)"
   ]
  },
  {
   "cell_type": "code",
   "execution_count": 8,
   "id": "1f710862",
   "metadata": {},
   "outputs": [
    {
     "name": "stdout",
     "output_type": "stream",
     "text": [
      "<re.Match object; span=(8, 18), match='9786612345'>\n"
     ]
    }
   ],
   "source": [
    "#python program to create a regular expression to retrivee the phone number\n",
    "import re \n",
    "string='venkat: 9786612345'\n",
    "result=re.search(r'\\d+',string)\n",
    "print(result)"
   ]
  },
  {
   "cell_type": "code",
   "execution_count": 17,
   "id": "7ff3f961",
   "metadata": {},
   "outputs": [],
   "source": [
    "file=open('file12.txt','x')\n",
    "file.write('samykalyani59@gmail.com')\n",
    "file.close()"
   ]
  },
  {
   "cell_type": "code",
   "execution_count": 18,
   "id": "9d002d64",
   "metadata": {},
   "outputs": [
    {
     "name": "stdout",
     "output_type": "stream",
     "text": [
      "['samykalyani59@gmail']\n"
     ]
    }
   ],
   "source": [
    "file=open('file12.txt','r')\n",
    "import re\n",
    "for line in file:\n",
    "    res=re.findall(r'\\w+@\\w+',line)\n",
    "    print(res)   "
   ]
  },
  {
   "cell_type": "code",
   "execution_count": null,
   "id": "6c05d779",
   "metadata": {},
   "outputs": [],
   "source": []
  },
  {
   "cell_type": "code",
   "execution_count": null,
   "id": "f6bd72c0",
   "metadata": {},
   "outputs": [],
   "source": []
  },
  {
   "cell_type": "code",
   "execution_count": null,
   "id": "c273a062",
   "metadata": {},
   "outputs": [],
   "source": []
  }
 ],
 "metadata": {
  "kernelspec": {
   "display_name": "Python 3 (ipykernel)",
   "language": "python",
   "name": "python3"
  },
  "language_info": {
   "codemirror_mode": {
    "name": "ipython",
    "version": 3
   },
   "file_extension": ".py",
   "mimetype": "text/x-python",
   "name": "python",
   "nbconvert_exporter": "python",
   "pygments_lexer": "ipython3",
   "version": "3.11.5"
  }
 },
 "nbformat": 4,
 "nbformat_minor": 5
}
